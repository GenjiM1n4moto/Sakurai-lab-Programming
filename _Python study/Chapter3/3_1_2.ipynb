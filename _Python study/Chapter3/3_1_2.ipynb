{
 "cells": [
  {
   "cell_type": "markdown",
   "metadata": {},
   "source": [
    "## Programming study seminar\n",
    "\n",
    "### 3.1.2 - Strings"
   ]
  },
  {
   "cell_type": "markdown",
   "metadata": {},
   "source": [
    "### How to declare a string.\n",
    "\n",
    "Using python, we don't need keyword like string in Java or C to declare a string, the variable is the only thing you need\n",
    "\n",
    "It is more likely to be seen as assigning string to a variable which we do not need to declare.\n",
    "\n",
    "Using C, you may use \n",
    "\n",
    "```C\n",
    "string mystring = \"123ABCabc\"\n",
    "```\n",
    "\n",
    "However, using python, you just need"
   ]
  },
  {
   "cell_type": "code",
   "execution_count": 2,
   "metadata": {},
   "outputs": [],
   "source": [
    "mystring = '123ABCabc'"
   ]
  },
  {
   "cell_type": "code",
   "execution_count": 3,
   "metadata": {},
   "outputs": [
    {
     "name": "stdout",
     "output_type": "stream",
     "text": [
      "123ABCabc\n"
     ]
    }
   ],
   "source": [
    "print(mystring)"
   ]
  },
  {
   "cell_type": "markdown",
   "metadata": {},
   "source": [
    "And you can use this variable again without redeclaration"
   ]
  },
  {
   "cell_type": "code",
   "execution_count": 4,
   "metadata": {},
   "outputs": [
    {
     "name": "stdout",
     "output_type": "stream",
     "text": [
      "321CBAcba\n"
     ]
    }
   ],
   "source": [
    "mystring = \"321CBAcba\"\n",
    "print(mystring)"
   ]
  },
  {
   "cell_type": "markdown",
   "metadata": {},
   "source": [
    "The _mystring_ variable can be declared again in Python, if you had experiences on static language like Typescript or Rust, you may notice Python is so flexiable and easy to use, you do not need to memorize the keywords.\n",
    "\n",
    "Then, like strings in other languages, we may have a lot of problens using it. Like, how to segment or how to type symbol."
   ]
  },
  {
   "cell_type": "code",
   "execution_count": 7,
   "metadata": {},
   "outputs": [
    {
     "name": "stdout",
     "output_type": "stream",
     "text": [
      "abc\n",
      "abc\n",
      "\n",
      "\n",
      "abc\tabc\n",
      "abc \" \\t\n"
     ]
    }
   ],
   "source": [
    "segment = \"abc\\nabc\"\n",
    "print(segment)\n",
    "print(\"\\n\")\n",
    "indentation = \"abc\\tabc\"\n",
    "print(indentation)\n",
    "escape_character = \"abc \\\" \\\\t\"\n",
    "print(escape_character)"
   ]
  },
  {
   "cell_type": "markdown",
   "metadata": {},
   "source": [
    "And you may print in multiple lines directly"
   ]
  },
  {
   "cell_type": "code",
   "execution_count": 10,
   "metadata": {},
   "outputs": [
    {
     "name": "stdout",
     "output_type": "stream",
     "text": [
      "\n",
      "Today is Saturday, I want to study Programming.\n",
      "But I have to go to school, because Prof.Sakurai will\n",
      "have a meeting with me! \n",
      " \n",
      "12312\n",
      "\n"
     ]
    }
   ],
   "source": [
    "mylines = '''\n",
    "Today is Saturday, I want to study Programming.\n",
    "But I have to go to school, because Prof.Sakurai will\n",
    "have a meeting with me! \\n \n",
    "12312\n",
    "'''\n",
    "print(mylines)"
   ]
  },
  {
   "cell_type": "markdown",
   "metadata": {},
   "source": [
    "Yes, using \\\\(backslash) or '''string'''(Three single quotes), you can accurately print what you want to.\n",
    "\n",
    "Anyway, let's go back to Python string\n",
    "\n",
    "### Slice in string\n",
    "\n",
    "In python, string is a class, we may learn after a few weeks later.\n",
    "\n",
    "But here, I will offer you some example to help you learn Python much more easily."
   ]
  },
  {
   "cell_type": "code",
   "execution_count": 6,
   "metadata": {},
   "outputs": [
    {
     "name": "stdout",
     "output_type": "stream",
     "text": [
      "<class 'str'>\n",
      "勉\n",
      "す\n",
      "<class 'str'>\n"
     ]
    }
   ],
   "source": [
    "mystring = \"勉強する\"\n",
    "print(type(mystring))\n",
    "print(mystring[0])\n",
    "print(mystring[2])\n",
    "print(type(mystring[0]))"
   ]
  },
  {
   "cell_type": "markdown",
   "metadata": {},
   "source": [
    "Here, I use Japanese as an example, because I want to show that python string is not just for English characters but also other languages.\n",
    "\n",
    "The point is, you can use subscript([]) to fetch values in string. And the type of fetched values is also string.\n",
    "\n",
    "So you can write like this"
   ]
  },
  {
   "cell_type": "code",
   "execution_count": 7,
   "metadata": {},
   "outputs": [
    {
     "name": "stdout",
     "output_type": "stream",
     "text": [
      "す\n"
     ]
    }
   ],
   "source": [
    "print(mystring[2][0][0][0][0])"
   ]
  },
  {
   "cell_type": "markdown",
   "metadata": {},
   "source": [
    "Yes, it is okay for you to write like this, that may let you miss some mistakes when using python.\n",
    "\n",
    "If you are interested in this, you can search Magic function to learn more about it.\n",
    "\n",
    "And let's go back to string in Python again. You may wonder how manipulate strings in Python, here are some examples\n",
    "\n",
    "Sometimes we want to fetch a substring, we can use :(colon) in subscript."
   ]
  },
  {
   "cell_type": "code",
   "execution_count": 12,
   "metadata": {},
   "outputs": [
    {
     "name": "stdout",
     "output_type": "stream",
     "text": [
      "おはよう\n",
      "<class 'str'>\n"
     ]
    }
   ],
   "source": [
    "mystring = \"おはようございます。\"\n",
    "print(mystring[0:4])\n",
    "print(type(mystring))"
   ]
  },
  {
   "cell_type": "markdown",
   "metadata": {},
   "source": [
    "We get a substring of mystring from first position to 4th position. Here, I'd like to mention you, subscription in Python is from 0,\n",
    "\n",
    " and it represent the 1st postion, and behind : is 4, but we do not fetch the 5th position, the math expression is like [a, b)\n",
    "\n",
    "Sometimes we may want to choose the reverse position of a string, we can use - in subscription"
   ]
  },
  {
   "cell_type": "code",
   "execution_count": 13,
   "metadata": {},
   "outputs": [
    {
     "name": "stdout",
     "output_type": "stream",
     "text": [
      "おはよう\n"
     ]
    }
   ],
   "source": [
    "print(mystring[-10: -6])"
   ]
  },
  {
   "cell_type": "markdown",
   "metadata": {},
   "source": [
    "Still, if you use mystring[a: b], a must be bigger or equal to b, or it may fetch nothing"
   ]
  },
  {
   "cell_type": "code",
   "execution_count": 15,
   "metadata": {},
   "outputs": [
    {
     "name": "stdout",
     "output_type": "stream",
     "text": [
      "\n"
     ]
    }
   ],
   "source": [
    "print(mystring[-6: -8])\n",
    "# Nothing printed"
   ]
  },
  {
   "cell_type": "markdown",
   "metadata": {},
   "source": [
    "Also, to make it easier to be used, you can omit beginning position or ending position"
   ]
  },
  {
   "cell_type": "code",
   "execution_count": 19,
   "metadata": {},
   "outputs": [
    {
     "name": "stdout",
     "output_type": "stream",
     "text": [
      "おはよう\n",
      "おはよう\n",
      "ございます。\n",
      "ございます\n",
      "おはよう\n",
      "ございます。\n"
     ]
    }
   ],
   "source": [
    "print(mystring[:4])\n",
    "print(mystring[0:4])\n",
    "print(mystring[4:])\n",
    "print(mystring[4:-1])\n",
    "print(mystring[:-6])\n",
    "print(mystring[-6:])"
   ]
  },
  {
   "cell_type": "markdown",
   "metadata": {},
   "source": [
    "Warning: you can not use mystring[0:2] slice, but you can not assign value to it."
   ]
  },
  {
   "cell_type": "code",
   "execution_count": 12,
   "metadata": {},
   "outputs": [
    {
     "ename": "TypeError",
     "evalue": "'str' object does not support item assignment",
     "output_type": "error",
     "traceback": [
      "\u001b[0;31m---------------------------------------------------------------------------\u001b[0m",
      "\u001b[0;31mTypeError\u001b[0m                                 Traceback (most recent call last)",
      "\u001b[0;32m<ipython-input-12-3e7701eb90bf>\u001b[0m in \u001b[0;36m<module>\u001b[0;34m\u001b[0m\n\u001b[0;32m----> 1\u001b[0;31m \u001b[0mmystring\u001b[0m\u001b[0;34m[\u001b[0m\u001b[0;36m2\u001b[0m\u001b[0;34m:\u001b[0m\u001b[0;36m4\u001b[0m\u001b[0;34m]\u001b[0m \u001b[0;34m=\u001b[0m \u001b[0;34m\"12\"\u001b[0m\u001b[0;34m\u001b[0m\u001b[0;34m\u001b[0m\u001b[0m\n\u001b[0m",
      "\u001b[0;31mTypeError\u001b[0m: 'str' object does not support item assignment"
     ]
    }
   ],
   "source": [
    "mystring[2:4] = \"12\""
   ]
  },
  {
   "cell_type": "markdown",
   "metadata": {},
   "source": [
    "This error may confuse you, but strings in Python can not be modified, or you can say strings are immutable in Python\n",
    "\n",
    "So, what should you do ? The best way is using another variable to get a new string"
   ]
  },
  {
   "cell_type": "code",
   "execution_count": 20,
   "metadata": {},
   "outputs": [
    {
     "name": "stdout",
     "output_type": "stream",
     "text": [
      "AB345\n"
     ]
    }
   ],
   "source": [
    "mystring1 = \"12345\"\n",
    "mystring2 = \"AB\" + mystring1[2:]\n",
    "print(mystring2)"
   ]
  },
  {
   "cell_type": "code",
   "execution_count": 22,
   "metadata": {},
   "outputs": [
    {
     "name": "stdout",
     "output_type": "stream",
     "text": [
      "ABC1\n"
     ]
    }
   ],
   "source": [
    "A = \"A\"; B = \"B\"; C = \"C1\"\n",
    "D = A + B + C\n",
    "print(D)"
   ]
  },
  {
   "cell_type": "markdown",
   "metadata": {},
   "source": []
  },
  {
   "cell_type": "markdown",
   "metadata": {},
   "source": [
    "How about subtraction(引き算)"
   ]
  },
  {
   "cell_type": "code",
   "execution_count": 23,
   "metadata": {},
   "outputs": [
    {
     "ename": "TypeError",
     "evalue": "unsupported operand type(s) for -: 'str' and 'str'",
     "output_type": "error",
     "traceback": [
      "\u001b[0;31m--------------------------------------------------------------------------\u001b[0m",
      "\u001b[0;31mTypeError\u001b[0m                                Traceback (most recent call last)",
      "\u001b[0;32m<ipython-input-23-af8b8c843691>\u001b[0m in \u001b[0;36m<module>\u001b[0;34m\u001b[0m\n\u001b[0;32m----> 1\u001b[0;31m \u001b[0mD\u001b[0m \u001b[0;34m-\u001b[0m \u001b[0mA\u001b[0m\u001b[0;34m\u001b[0m\u001b[0;34m\u001b[0m\u001b[0m\n\u001b[0m",
      "\u001b[0;31mTypeError\u001b[0m: unsupported operand type(s) for -: 'str' and 'str'"
     ]
    }
   ],
   "source": [
    "D - A"
   ]
  },
  {
   "cell_type": "markdown",
   "metadata": {},
   "source": [
    "We can not use subtraction like this way!\n",
    "\n",
    "And also, if you are interested in the reason, you can learn magic function in Python"
   ]
  },
  {
   "cell_type": "markdown",
   "metadata": {},
   "source": [
    "Finally, I'd like to introduce a method of string class\n",
    "\n",
    "len() method can help you get the length of a string.\n",
    "\n",
    "There are two ways for you to use it."
   ]
  },
  {
   "cell_type": "code",
   "execution_count": 26,
   "metadata": {},
   "outputs": [
    {
     "name": "stdout",
     "output_type": "stream",
     "text": [
      "3\n",
      "3\n"
     ]
    }
   ],
   "source": [
    "print(len(\"123\"))\n",
    "print(\"123\".__len__())\n"
   ]
  },
  {
   "cell_type": "markdown",
   "metadata": {},
   "source": [
    "You may wonder why these two methods can work, and I want to give you the same answer, \n",
    "\n",
    "learn magic function in Python, you can know all of them!"
   ]
  }
 ],
 "metadata": {
  "interpreter": {
   "hash": "6eee716f8a3896ce7f6902aa4907f2c4f4cc03f8df2b3dd320ffe18d9a8fc823"
  },
  "kernelspec": {
   "display_name": "Python 3",
   "language": "python",
   "name": "python3"
  },
  "language_info": {
   "codemirror_mode": {
    "name": "ipython",
    "version": 3
   },
   "file_extension": ".py",
   "mimetype": "text/x-python",
   "name": "python",
   "nbconvert_exporter": "python",
   "pygments_lexer": "ipython3",
   "version": "3.8.8"
  }
 },
 "nbformat": 4,
 "nbformat_minor": 2
}

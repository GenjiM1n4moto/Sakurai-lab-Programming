{
 "cells": [
  {
   "cell_type": "markdown",
   "id": "1c27a155-3d04-4af8-aa65-5b3a9cac74fe",
   "metadata": {},
   "source": [
    "# 7.1. Fancier Output Formatting\n",
    "\n",
    "**We've encountered two ways of writing values.**\n",
    "- **print function**\n",
    "- **expression statements**"
   ]
  },
  {
   "cell_type": "code",
   "execution_count": 1,
   "id": "38b756f2-e7bd-4a90-8275-ed9c166bf9a5",
   "metadata": {},
   "outputs": [
    {
     "name": "stdout",
     "output_type": "stream",
     "text": [
      "こんにちは\n"
     ]
    }
   ],
   "source": [
    "# print function\n",
    "hello = \"こんにちは\"\n",
    "print(hello)"
   ]
  },
  {
   "cell_type": "code",
   "execution_count": 2,
   "id": "d65c3dd8-7e64-4b7c-9c66-e7fe1bd97c8a",
   "metadata": {},
   "outputs": [
    {
     "data": {
      "text/plain": [
       "'こんにちは'"
      ]
     },
     "execution_count": 2,
     "metadata": {},
     "output_type": "execute_result"
    }
   ],
   "source": [
    "# expression statements\n",
    "hello = \"こんにちは\"\n",
    "hello"
   ]
  },
  {
   "cell_type": "markdown",
   "id": "fc1d9026-e766-4b50-98fe-c400f810d575",
   "metadata": {},
   "source": [
    "**Often, you want to write output along with some variables.**\n",
    "\n",
    "**In this Section, I introduce you about some solution for this case.**"
   ]
  },
  {
   "cell_type": "markdown",
   "id": "9dc63de5-456a-4db0-8372-396e7af76b8e",
   "metadata": {},
   "source": [
    "## 7.1.1. Formatted String Literals\n",
    "\n",
    "**Also called f-string for short.**\n",
    "\n",
    "**f-string let you include the value of Python expressions inside a string by prefixing the string with f or F and writing expressions as {expression}**"
   ]
  },
  {
   "cell_type": "code",
   "execution_count": 3,
   "id": "bc044162-2ede-4123-8fc5-deacccc8ed33",
   "metadata": {},
   "outputs": [
    {
     "name": "stdout",
     "output_type": "stream",
     "text": [
      "こんにちは, world!\n",
      "こんにちは, 世界\n"
     ]
    }
   ],
   "source": [
    "hello = \"こんにちは\"\n",
    "\n",
    "print(f\"{hello}, world!\")\n",
    "print(F\"{hello}, 世界\")"
   ]
  },
  {
   "cell_type": "markdown",
   "id": "b8fd2567-cea2-4b55-9cb5-a6a6b3586078",
   "metadata": {},
   "source": [
    "**An optional format specifier can follow the expression.**"
   ]
  },
  {
   "cell_type": "code",
   "execution_count": 4,
   "id": "2ab2dc02-7404-4a17-a79f-5cf9b61c14ef",
   "metadata": {},
   "outputs": [
    {
     "name": "stdout",
     "output_type": "stream",
     "text": [
      "3.141592653589793\n"
     ]
    }
   ],
   "source": [
    "import math\n",
    "print(math.pi) # output floating point value."
   ]
  },
  {
   "cell_type": "code",
   "execution_count": 5,
   "id": "d14f779d-1f07-4108-a727-77db267095e4",
   "metadata": {},
   "outputs": [
    {
     "name": "stdout",
     "output_type": "stream",
     "text": [
      "The value of pi is approximately 3.142\n"
     ]
    }
   ],
   "source": [
    "# in this example, rounds pi to three places after the decimal.\n",
    "import math\n",
    "print(f\"The value of pi is approximately {math.pi:.3f}\")"
   ]
  },
  {
   "cell_type": "markdown",
   "id": "734162ec-e068-4c24-8cb4-6c7617e8e282",
   "metadata": {},
   "source": [
    "**Passing an integer after the ':' will cause that field to be a minimum number of characters wide.**"
   ]
  },
  {
   "cell_type": "code",
   "execution_count": 6,
   "id": "2a10bfb1-fbb0-4983-875d-05747113679c",
   "metadata": {},
   "outputs": [
    {
     "name": "stdout",
     "output_type": "stream",
     "text": [
      "Charlie    ==>       4127\n",
      "Jack       ==>       4098\n",
      "Alice      ==>       7678\n",
      "JupyterLab ==>       2739\n"
     ]
    }
   ],
   "source": [
    "# useful for making columns line up\n",
    "\n",
    "table = {\"Charlie\": 4127, \"Jack\": 4098, \"Alice\": 7678, \"JupyterLab\": 2739}\n",
    "\n",
    "# table = {\"Charlie\": 4127, \"Jack\": 4098, \"Alice\": 7678, \"JupyterLaboratory\": 2739} \n",
    "# If use above code, the format is broken because there is names longer than 10.\n",
    "\n",
    "for name, phone in table.items():\n",
    "    print(f\"{name:10} ==> {phone:10d}\")"
   ]
  },
  {
   "cell_type": "markdown",
   "id": "3ed9e2f7-449c-4e93-8e29-cbf42d8deac8",
   "metadata": {},
   "source": [
    "**Other modifiers can be used to convert the value before it is formatted.**\n",
    "\n",
    "**Need more information, see [Format Specification Mini-Language](https://docs.python.org/3/library/string.html#formatspec).**"
   ]
  },
  {
   "cell_type": "code",
   "execution_count": 7,
   "id": "e6d73826-bba4-4c08-8b80-199f482c2c39",
   "metadata": {},
   "outputs": [
    {
     "name": "stdout",
     "output_type": "stream",
     "text": [
      "Today's breakfast is breadパン\n",
      "Today's breakfast is 'bread\\u30d1\\u30f3'\n",
      "Today's breakfast is 'breadパン'\n"
     ]
    }
   ],
   "source": [
    "breakfast = \"breadパン\"\n",
    "print(f\"Today's breakfast is {breakfast}\")\n",
    "\n",
    "# In this case, expression is ascii. so if the string has non-ascii items, it is escaped as unicode\n",
    "print(f\"Today's breakfast is {breakfast!a}\") \n",
    "\n",
    "# this case, expression is expression statements.\n",
    "print(f\"Today's breakfast is {breakfast!r}\")\n"
   ]
  },
  {
   "cell_type": "markdown",
   "id": "1f849420-bcde-4d01-a856-a05ce6289ff9",
   "metadata": {},
   "source": [
    "## 7.1.2. The String format() Method"
   ]
  },
  {
   "cell_type": "markdown",
   "id": "ebc9e79e-4d0b-411c-9721-e97c8c000aeb",
   "metadata": {},
   "source": [
    "**Basic usage of the str.format() method**"
   ]
  },
  {
   "cell_type": "code",
   "execution_count": 8,
   "id": "22dae479-1d87-492b-a747-debe4eabace7",
   "metadata": {},
   "outputs": [
    {
     "name": "stdout",
     "output_type": "stream",
     "text": [
      "My pet's name is 'miso'!\n"
     ]
    }
   ],
   "source": [
    "print(\"My {} is '{}'!\".format(\"pet's name\", \"miso\"))"
   ]
  },
  {
   "cell_type": "markdown",
   "id": "3a160470-b221-4ffb-a6a9-2e725de3be50",
   "metadata": {},
   "source": [
    "**A number in the brackets can be used to refer to the position of the object passed into the str.format() method**"
   ]
  },
  {
   "cell_type": "code",
   "execution_count": 9,
   "id": "eeb39bbe-3bc8-4f7d-9d16-4ffd4c060928",
   "metadata": {},
   "outputs": [
    {
     "name": "stdout",
     "output_type": "stream",
     "text": [
      "eggs first, not chickens\n",
      "chickens first, not eggs\n"
     ]
    }
   ],
   "source": [
    "print(\"{0} first, not {1}\".format(\"eggs\", \"chickens\"))\n",
    "print(\"{1} first, not {0}\".format(\"eggs\", \"chickens\"))\n"
   ]
  },
  {
   "cell_type": "markdown",
   "id": "38e72d87-37cc-4ffe-8299-e4ff13cc24b8",
   "metadata": {},
   "source": [
    "**You can use keyword arguments in str.format() method**"
   ]
  },
  {
   "cell_type": "code",
   "execution_count": 10,
   "id": "3a7933aa-9e9e-47dc-81bb-40c7cf105f17",
   "metadata": {},
   "outputs": [
    {
     "name": "stdout",
     "output_type": "stream",
     "text": [
      "This steak is delicious.\n",
      "This steak is delicious.\n"
     ]
    }
   ],
   "source": [
    "print(\"This {food} is {adjective}.\".format(food=\"steak\", adjective=\"delicious\"))\n",
    "print(\"This {food} is {adjective}.\".format(adjective=\"delicious\", food=\"steak\"))"
   ]
  },
  {
   "cell_type": "markdown",
   "id": "1bafaae1-eb54-4b7f-89e0-2b56dd07f074",
   "metadata": {},
   "source": [
    "**And, you can combine positional and keyword arguments**"
   ]
  },
  {
   "cell_type": "code",
   "execution_count": 11,
   "id": "45604df4-18e7-4fe9-b008-c967ede72e51",
   "metadata": {},
   "outputs": [
    {
     "name": "stdout",
     "output_type": "stream",
     "text": [
      "This steak is delicious\n"
     ]
    }
   ],
   "source": [
    "print(\"This {food} is {}\".format(\"delicious\", food=\"steak\"))"
   ]
  },
  {
   "cell_type": "markdown",
   "id": "7d627d72-3b20-40aa-8fd9-2ea4bc8c3cca",
   "metadata": {},
   "source": [
    "**but keyword arguments must follow positional arguments**"
   ]
  },
  {
   "cell_type": "code",
   "execution_count": 12,
   "id": "86660c5b-7838-4bf1-974b-6fe7a7e73e3d",
   "metadata": {},
   "outputs": [
    {
     "ename": "SyntaxError",
     "evalue": "positional argument follows keyword argument (230748097.py, line 1)",
     "output_type": "error",
     "traceback": [
      "\u001b[1;36m  Input \u001b[1;32mIn [12]\u001b[1;36m\u001b[0m\n\u001b[1;33m    print(\"This {food} is {}\".format(food=\"steak\", \"delicious\"))\u001b[0m\n\u001b[1;37m                                                              ^\u001b[0m\n\u001b[1;31mSyntaxError\u001b[0m\u001b[1;31m:\u001b[0m positional argument follows keyword argument\n"
     ]
    }
   ],
   "source": [
    "print(\"This {food} is {}\".format(food=\"steak\", \"delicious\"))"
   ]
  },
  {
   "cell_type": "markdown",
   "id": "0569a995-36e6-4701-b0bc-252fc39af787",
   "metadata": {},
   "source": [
    "**Simply access to Dict is available**"
   ]
  },
  {
   "cell_type": "code",
   "execution_count": 13,
   "id": "c5f3356e-c395-4277-b234-8c537aefe878",
   "metadata": {},
   "outputs": [
    {
     "name": "stdout",
     "output_type": "stream",
     "text": [
      "Charlie: 4127, Jack: 4098, Alice: 7678, JupyterLab: 2739\n"
     ]
    }
   ],
   "source": [
    "table = {\"Charlie\": 4127, \"Jack\": 4098, \"Alice\": 7678, \"JupyterLab\": 2739}\n",
    "print(\"Charlie: {0[Charlie]:d}, Jack: {0[Jack]:d}, Alice: {0[Alice]:d}, JupyterLab: {0[JupyterLab]:d}\"\n",
    "      .format(table))"
   ]
  },
  {
   "cell_type": "markdown",
   "id": "658a272f-e274-4274-955d-f7250ddd86bb",
   "metadata": {},
   "source": [
    "**This could also be done by passing the table as keyword arguments with the '\\*\\*' notation**"
   ]
  },
  {
   "cell_type": "code",
   "execution_count": 14,
   "id": "f69166c1-f650-42f5-b46d-2f99377df101",
   "metadata": {},
   "outputs": [
    {
     "name": "stdout",
     "output_type": "stream",
     "text": [
      "Charlie: 4127, Jack: 4098, Alice: 7678, JupyterLab: 2739\n"
     ]
    }
   ],
   "source": [
    "table = {\"Charlie\": 4127, \"Jack\": 4098, \"Alice\": 7678, \"JupyterLab\": 2739}\n",
    "print(\"Charlie: {Charlie:d}, Jack: {Jack:d}, Alice: {Alice:d}, JupyterLab: {JupyterLab:d}\"\n",
    "      .format(**table))"
   ]
  },
  {
   "cell_type": "markdown",
   "id": "0c588163-4508-4c47-b204-3dd004486660",
   "metadata": {},
   "source": [
    "**Following code produce the table of squares and cubes**"
   ]
  },
  {
   "cell_type": "code",
   "execution_count": 15,
   "id": "92cf1efe-0605-4474-8b27-23a92af5e513",
   "metadata": {},
   "outputs": [
    {
     "name": "stdout",
     "output_type": "stream",
     "text": [
      " 1   1    1\n",
      " 2   4    8\n",
      " 3   9   27\n",
      " 4  16   64\n",
      " 5  25  125\n",
      " 6  36  216\n",
      " 7  49  343\n",
      " 8  64  512\n",
      " 9  81  729\n",
      "10 100 1000\n"
     ]
    }
   ],
   "source": [
    "for x in range(1, 11):\n",
    "    print(\"{0:2d} {1:3d} {2:4d}\".format(x, x*x, x*x*x))\n",
    "    # print(\"{0:2d} {1:3d} {2:4d}\".format(x, x**2, x**3))"
   ]
  },
  {
   "cell_type": "markdown",
   "id": "bfa52138-e983-4c27-8782-788e495654db",
   "metadata": {},
   "source": [
    "## 7.1.3. Manual String Formatting"
   ]
  },
  {
   "cell_type": "markdown",
   "id": "5420e722-e936-4ee0-8219-ebb11f6c79a6",
   "metadata": {},
   "source": [
    "**Here's the same table of squares and cubes, formatting manually**\n",
    "\n",
    "**str.rjust() method of string objects right-justifies a string, and padding it until given width with space on the left side.**"
   ]
  },
  {
   "cell_type": "code",
   "execution_count": 16,
   "id": "8dd2f595-a422-4d1d-bf53-3121bf3a0e22",
   "metadata": {},
   "outputs": [
    {
     "name": "stdout",
     "output_type": "stream",
     "text": [
      " 1   1    1\n",
      " 2   4    8\n",
      " 3   9   27\n",
      " 4  16   64\n",
      " 5  25  125\n",
      " 6  36  216\n",
      " 7  49  343\n",
      " 8  64  512\n",
      " 9  81  729\n",
      "10 100 1000\n"
     ]
    }
   ],
   "source": [
    "for x in range(1, 11):\n",
    "    print(str(x).rjust(2), str(x*x).rjust(3), end=' ')\n",
    "    print(str(x*x*x).rjust(4))\n",
    "    "
   ]
  },
  {
   "cell_type": "markdown",
   "id": "fbc7a5d4-02bd-4043-b4cc-48d94951b684",
   "metadata": {},
   "source": [
    "**There is another method, str.zfill(), which pads a numeric string on the left with zeros.**"
   ]
  },
  {
   "cell_type": "code",
   "execution_count": 22,
   "id": "f2546631-a46e-45db-837b-9a6bb82ebc8b",
   "metadata": {},
   "outputs": [
    {
     "name": "stdout",
     "output_type": "stream",
     "text": [
      "00012\n",
      "-0012\n",
      "2.71828\n",
      "02.71828\n",
      "00a\n"
     ]
    }
   ],
   "source": [
    "print(\"12\".zfill(5))\n",
    "print(\"-12\".zfill(5))\n",
    "print(\"2.71828\".zfill(5)) \n",
    "print(\"2.71828\".zfill(8)) \n",
    "print(\"a\".zfill(3)) # not numeric string can be used"
   ]
  },
  {
   "cell_type": "markdown",
   "id": "9ccd58ba-0915-403f-9db2-c588008dd993",
   "metadata": {},
   "source": [
    "## 7.1.4. Old string formatting\n",
    "\n",
    "The % operator can also be used for string fomatting."
   ]
  },
  {
   "cell_type": "code",
   "execution_count": 24,
   "id": "5952694f-be99-4112-8412-b4787e1c02e6",
   "metadata": {},
   "outputs": [
    {
     "name": "stdout",
     "output_type": "stream",
     "text": [
      "The value of pi is approximately 3.14159 3.1416 .\n"
     ]
    }
   ],
   "source": [
    "# If you want to know the fifth and fourth decimal places of pi\n",
    "import math\n",
    "print(\"The value of pi is approximately %.5f %.4f .\"% (math.pi, math.pi))"
   ]
  },
  {
   "cell_type": "code",
   "execution_count": null,
   "id": "a64e1e69-76bf-41fc-adf0-c3d70f154db7",
   "metadata": {},
   "outputs": [],
   "source": []
  }
 ],
 "metadata": {
  "kernelspec": {
   "display_name": "Python 3 (ipykernel)",
   "language": "python",
   "name": "python3"
  },
  "language_info": {
   "codemirror_mode": {
    "name": "ipython",
    "version": 3
   },
   "file_extension": ".py",
   "mimetype": "text/x-python",
   "name": "python",
   "nbconvert_exporter": "python",
   "pygments_lexer": "ipython3",
   "version": "3.10.1"
  }
 },
 "nbformat": 4,
 "nbformat_minor": 5
}

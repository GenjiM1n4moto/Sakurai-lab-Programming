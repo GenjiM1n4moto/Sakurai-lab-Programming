{
 "cells": [
  {
   "cell_type": "markdown",
   "id": "1c1f833a-060f-4f60-82a4-5202f609d0e8",
   "metadata": {},
   "source": [
    "# 5.1 More on Lists\n",
    "\n",
    "**We have learned List type.**\n",
    "\n",
    "**Today, we explore list type as a data structure.** \n",
    "\n",
    "**First, I'll show you an example using a method of list objects.**"
   ]
  },
  {
   "cell_type": "markdown",
   "id": "c6b56de3-37ef-4079-8331-2a1bbfc3936b",
   "metadata": {},
   "source": [
    "### append(x)\n",
    "**You can add an item to the end of the list.**"
   ]
  },
  {
   "cell_type": "code",
   "execution_count": 20,
   "id": "ae233ca2-d433-4d35-a7d3-a11d794cdadf",
   "metadata": {},
   "outputs": [
    {
     "data": {
      "text/plain": [
       "['apple', 'banana', 'pineapple', 'peach']"
      ]
     },
     "execution_count": 20,
     "metadata": {},
     "output_type": "execute_result"
    }
   ],
   "source": [
    "fruits = [\"apple\", \"banana\", \"pineapple\"]\n",
    "fruits.append(\"peach\")\n",
    "fruits"
   ]
  },
  {
   "cell_type": "markdown",
   "id": "c4df401b-c43d-4783-afc5-97deab7cce5e",
   "metadata": {},
   "source": [
    "### extend(iterable)\n",
    "**You can add an iterable item such as list and tuple to the end of list**"
   ]
  },
  {
   "cell_type": "code",
   "execution_count": 24,
   "id": "33a83d86-053d-4cfd-8935-e53aebf3010c",
   "metadata": {},
   "outputs": [
    {
     "data": {
      "text/plain": [
       "['apple', 'banana', 'pineapple', 'grape', 'mango', 'strawberry']"
      ]
     },
     "execution_count": 24,
     "metadata": {},
     "output_type": "execute_result"
    }
   ],
   "source": [
    "fruits = [\"apple\", \"banana\", \"pineapple\"]\n",
    "\n",
    "# fruits2 = [\"grape\", \"mango\", \"strawberry\"]\n",
    "# fruits2 = (\"grape\", \"mango\", \"strawberry\")\n",
    "fruits2 = {1: \"grape\", 2:\"mango\", 3:\"strawberry\"}\n",
    "\n",
    "# fruits.extend(fruits2)\n",
    "fruits.extend(fruits2.values())\n",
    "fruits"
   ]
  },
  {
   "cell_type": "markdown",
   "id": "807bc624-cae0-4e43-8ca1-75c4372a89f7",
   "metadata": {},
   "source": [
    "### insert(index, x)\n",
    "\n",
    "**Insert an item at a given position by index.**"
   ]
  },
  {
   "cell_type": "code",
   "execution_count": 25,
   "id": "a18c57ea-decf-4e99-a2e9-986e3b37e3a0",
   "metadata": {},
   "outputs": [
    {
     "data": {
      "text/plain": [
       "['peach', 'apple', 'banana', 'pineapple', 'grape']"
      ]
     },
     "execution_count": 25,
     "metadata": {},
     "output_type": "execute_result"
    }
   ],
   "source": [
    "fruits = [\"apple\", \"banana\", \"pineapple\"]\n",
    "\n",
    "fruits.insert(0, \"peach\")\n",
    "fruits.insert(len(fruits), \"grape\")  \n",
    "fruits"
   ]
  },
  {
   "cell_type": "markdown",
   "id": "fab266ad-bd25-4e7d-a93d-4f987c0dd9e5",
   "metadata": {},
   "source": [
    "### remove(x)\n",
    "**Remove the first item from the list whose values is equal to x.**"
   ]
  },
  {
   "cell_type": "code",
   "execution_count": 26,
   "id": "f16fc704-0eaa-4316-9932-a40b3af24a1d",
   "metadata": {},
   "outputs": [
    {
     "data": {
      "text/plain": [
       "['banana', 'pineapple', 'apple']"
      ]
     },
     "execution_count": 26,
     "metadata": {},
     "output_type": "execute_result"
    }
   ],
   "source": [
    "fruits = [\"apple\", \"banana\", \"pineapple\"]\n",
    "fruits.append(\"apple\")\n",
    "fruits.remove(\"apple\")\n",
    "fruits"
   ]
  },
  {
   "cell_type": "markdown",
   "id": "0b1ac6a3-e816-437f-8021-812b83a9039b",
   "metadata": {},
   "source": [
    "### pop([index]) [index]: optional\n",
    "**Remove and return the item at the given position in the list. If index is not assigned, remove and return the item at the end of list**"
   ]
  },
  {
   "cell_type": "code",
   "execution_count": 5,
   "id": "914c9b21-55f1-4646-a781-6778066191df",
   "metadata": {},
   "outputs": [
    {
     "name": "stdout",
     "output_type": "stream",
     "text": [
      "apple\n",
      "['banana', 'pineapple', 'apple']\n",
      "apple\n",
      "['banana', 'pineapple']\n"
     ]
    }
   ],
   "source": [
    "fruits = [\"apple\", \"banana\", \"pineapple\"]\n",
    "fruits.append(\"apple\")\n",
    "print(fruits.pop(0))\n",
    "print(fruits)\n",
    "print(fruits.pop())\n",
    "print(fruits)"
   ]
  },
  {
   "cell_type": "markdown",
   "id": "3dde2274-346b-49d2-a086-081ac8f48a36",
   "metadata": {},
   "source": [
    "### clear()\n",
    "**Remove all items from the list**"
   ]
  },
  {
   "cell_type": "code",
   "execution_count": 27,
   "id": "13722d72-38bc-42a4-9a56-654be4695ea4",
   "metadata": {},
   "outputs": [
    {
     "data": {
      "text/plain": [
       "[]"
      ]
     },
     "execution_count": 27,
     "metadata": {},
     "output_type": "execute_result"
    }
   ],
   "source": [
    "fruits = [\"apple\", \"banana\", \"pineapple\"]\n",
    "fruits.clear()\n",
    "fruits"
   ]
  },
  {
   "cell_type": "markdown",
   "id": "988ea837-6f54-4556-8b26-b421d11e26bd",
   "metadata": {},
   "source": [
    "### index(x, [, start[, end]]) start, end:optional\n",
    "**Return zero-based index in the list of the first item whose value is equal to x.**"
   ]
  },
  {
   "cell_type": "code",
   "execution_count": 29,
   "id": "3f60c9e5-fb6d-4569-93ef-daaf5b591e0e",
   "metadata": {},
   "outputs": [
    {
     "ename": "ValueError",
     "evalue": "'banana' is not in list",
     "output_type": "error",
     "traceback": [
      "\u001b[1;31m---------------------------------------------------------------------------\u001b[0m",
      "\u001b[1;31mValueError\u001b[0m                                Traceback (most recent call last)",
      "Input \u001b[1;32mIn [29]\u001b[0m, in \u001b[0;36m<cell line: 3>\u001b[1;34m()\u001b[0m\n\u001b[0;32m      1\u001b[0m fruits \u001b[38;5;241m=\u001b[39m [\u001b[38;5;124m\"\u001b[39m\u001b[38;5;124mapple\u001b[39m\u001b[38;5;124m\"\u001b[39m, \u001b[38;5;124m\"\u001b[39m\u001b[38;5;124mbanana\u001b[39m\u001b[38;5;124m\"\u001b[39m, \u001b[38;5;124m\"\u001b[39m\u001b[38;5;124mpineapple\u001b[39m\u001b[38;5;124m\"\u001b[39m]\n\u001b[0;32m      2\u001b[0m \u001b[38;5;66;03m# print(fruits.index(\"banana\"))\u001b[39;00m\n\u001b[1;32m----> 3\u001b[0m \u001b[38;5;28mprint\u001b[39m(\u001b[43mfruits\u001b[49m\u001b[38;5;241;43m.\u001b[39;49m\u001b[43mindex\u001b[49m\u001b[43m(\u001b[49m\u001b[38;5;124;43m\"\u001b[39;49m\u001b[38;5;124;43mbanana\u001b[39;49m\u001b[38;5;124;43m\"\u001b[39;49m\u001b[43m,\u001b[49m\u001b[43m \u001b[49m\u001b[38;5;241;43m2\u001b[39;49m\u001b[43m)\u001b[49m)\n",
      "\u001b[1;31mValueError\u001b[0m: 'banana' is not in list"
     ]
    }
   ],
   "source": [
    "fruits = [\"apple\", \"banana\", \"pineapple\"]\n",
    "# print(fruits.index(\"banana\"))\n",
    "print(fruits.index(\"banana\", 2))# it goes to error"
   ]
  },
  {
   "cell_type": "markdown",
   "id": "f536cef9-9785-4832-b843-8bd53da992c4",
   "metadata": {},
   "source": [
    "### count(x)\n",
    "**Return the number of times x appears in the list.**"
   ]
  },
  {
   "cell_type": "code",
   "execution_count": 31,
   "id": "9e6756e3-d831-4bfe-ac62-dae562a79259",
   "metadata": {},
   "outputs": [
    {
     "data": {
      "text/plain": [
       "2"
      ]
     },
     "execution_count": 31,
     "metadata": {},
     "output_type": "execute_result"
    }
   ],
   "source": [
    "fruits = [\"apple\", \"banana\", \"pineapple\"]\n",
    "fruits.append(\"apple\")\n",
    "fruits.count(\"apple\")"
   ]
  },
  {
   "cell_type": "markdown",
   "id": "2549d376-fbd1-4a17-a8f0-d3a943768795",
   "metadata": {},
   "source": [
    "### sort()\n",
    "**Sort the items of the list in place**\n",
    "\n",
    "**Note: It has an arguments can be used for sort customization, go [sorted()](https://docs.python.org/3/library/functions.html#sorted) if you need.**"
   ]
  },
  {
   "cell_type": "code",
   "execution_count": 9,
   "id": "3b3189f9-4bdd-448f-9fa2-2ba55ace3e0d",
   "metadata": {},
   "outputs": [
    {
     "data": {
      "text/plain": [
       "['apple', 'banana', 'grape', 'mango', 'pineapple', 'strawberry']"
      ]
     },
     "execution_count": 9,
     "metadata": {},
     "output_type": "execute_result"
    }
   ],
   "source": [
    "fruits = [\"apple\", \"banana\", \"pineapple\"]\n",
    "fruits2 = [\"grape\", \"mango\", \"strawberry\"]\n",
    "fruits.extend(fruits2)\n",
    "fruits.sort()\n",
    "fruits"
   ]
  },
  {
   "cell_type": "markdown",
   "id": "5b3d067b-4e84-468e-93ec-4944311152be",
   "metadata": {},
   "source": [
    "### reverse()\n",
    "**Reverse the elements of the list**"
   ]
  },
  {
   "cell_type": "code",
   "execution_count": 10,
   "id": "8830c2dd-e2ad-4236-a1e9-cd9fa04d2c69",
   "metadata": {},
   "outputs": [
    {
     "data": {
      "text/plain": [
       "['pineapple', 'banana', 'apple']"
      ]
     },
     "execution_count": 10,
     "metadata": {},
     "output_type": "execute_result"
    }
   ],
   "source": [
    "fruits = [\"apple\", \"banana\", \"pineapple\"]\n",
    "fruits.reverse()\n",
    "fruits"
   ]
  },
  {
   "cell_type": "markdown",
   "id": "5e3ba3b4-6f6e-4d58-bae9-59c294cbc257",
   "metadata": {},
   "source": [
    "### copy()\n",
    "**Return a shallow copy of the list.**"
   ]
  },
  {
   "cell_type": "code",
   "execution_count": 34,
   "id": "334be362-24ba-437a-8db0-34ce5dd25e5f",
   "metadata": {},
   "outputs": [
    {
     "data": {
      "text/plain": [
       "['apple', 'banana', ['pineapple', 'grape']]"
      ]
     },
     "execution_count": 34,
     "metadata": {},
     "output_type": "execute_result"
    }
   ],
   "source": [
    "fruits = [\"apple\", \"banana\", [\"pineapple\", \"grape\"]]\n",
    "fruits2 = fruits.copy()\n",
    "fruits2"
   ]
  },
  {
   "cell_type": "code",
   "execution_count": 35,
   "id": "df1de015-eb44-479b-b74f-ef9105763341",
   "metadata": {},
   "outputs": [
    {
     "name": "stdout",
     "output_type": "stream",
     "text": [
      "['apple', 1, [3, 'grape']] ['apple', 'banana', [3, 'grape']]\n"
     ]
    }
   ],
   "source": [
    "fruits[1]=1\n",
    "fruits[2][0]=3\n",
    "print(fruits, fruits2)"
   ]
  },
  {
   "cell_type": "markdown",
   "id": "04b1c839-f2ae-4cad-a76b-c3afe2c01735",
   "metadata": {},
   "source": [
    "## 5.1.1. Using Lists as Stacks\n",
    "\n",
    "**Stack: The last element added is the first element retrieved(LIFO)**\n",
    "\n",
    "**The above methods make it easier to use a list as a stack.**"
   ]
  },
  {
   "cell_type": "code",
   "execution_count": 36,
   "id": "93525c82-960a-4fcd-a5ed-5a1a8892da78",
   "metadata": {},
   "outputs": [
    {
     "name": "stdout",
     "output_type": "stream",
     "text": [
      "after append:  [2, 3, 5, 6]\n",
      "after pop:  [2, 3, 5]\n"
     ]
    }
   ],
   "source": [
    "stack = [] # empty stack\n",
    "\n",
    "# add to stack\n",
    "stack.append(2)\n",
    "stack.append(3)\n",
    "stack.append(5)\n",
    "stack.append(6)\n",
    "\n",
    "print(\"after append: \", stack)\n",
    "\n",
    "# pop from stack\n",
    "\n",
    "stack.pop()\n",
    "\n",
    "print(\"after pop: \", stack)"
   ]
  },
  {
   "cell_type": "markdown",
   "id": "e9438e0d-8c88-4faa-b591-123ad152e0de",
   "metadata": {},
   "source": [
    "## 5.1.2 Using Lists as Queues\n",
    "\n",
    "**Queue: The first element added is the first element retrieved(FIFO)**\n",
    "\n",
    "**To implement a queue, use [collections.deque](https://docs.python.org/3/library/collections.html#collections.deque) which was designed to have fast appends and pops from both ends.**"
   ]
  },
  {
   "cell_type": "code",
   "execution_count": 37,
   "id": "844940f0-bef6-4daa-99a2-06a7cc6d06d8",
   "metadata": {},
   "outputs": [
    {
     "name": "stdout",
     "output_type": "stream",
     "text": [
      "after append:  deque([1, 2, 3, 5])\n",
      "after pop:  deque([2, 3, 5])\n"
     ]
    }
   ],
   "source": [
    "from collections import deque\n",
    "queue = deque([])\n",
    "\n",
    "queue.append(1)\n",
    "queue.append(2)\n",
    "queue.append(3)\n",
    "queue.append(5)\n",
    "\n",
    "print(\"after append: \", queue)\n",
    "\n",
    "queue.popleft()\n",
    "print(\"after pop: \", queue)"
   ]
  },
  {
   "cell_type": "markdown",
   "id": "3244e4dd-ed00-4115-8893-0d7a9ced08a9",
   "metadata": {},
   "source": [
    "## 5.1.3. List Comprehensions\n",
    "\n",
    "**List comprehensions provide a concise way to create lists. Common applications are to make new lists where each element is the result of some operations applied to each member of another sequence or iterable, or to create a subsequence of those elements that satisfy a certain condition**"
   ]
  },
  {
   "cell_type": "code",
   "execution_count": 38,
   "id": "455d9c3b-b9f2-4b00-b431-b0a5ffc776ae",
   "metadata": {},
   "outputs": [
    {
     "data": {
      "text/plain": [
       "[0, 1, 4, 9, 16, 25, 36, 49, 64, 81]"
      ]
     },
     "execution_count": 38,
     "metadata": {},
     "output_type": "execute_result"
    }
   ],
   "source": [
    "# naive way to create a list of squares\n",
    "squares = []\n",
    "for i in range(10):\n",
    "    squares.append(i**2)\n",
    "\n",
    "squares"
   ]
  },
  {
   "cell_type": "code",
   "execution_count": 39,
   "id": "73066c9e-d669-4e32-84c9-62bf61f235dc",
   "metadata": {},
   "outputs": [
    {
     "data": {
      "text/plain": [
       "[0, 1, 4, 9, 16, 25, 36, 49, 64, 81]"
      ]
     },
     "execution_count": 39,
     "metadata": {},
     "output_type": "execute_result"
    }
   ],
   "source": [
    "# list comprehensions\n",
    "squares = [i**2 for i in range(10)]\n",
    "squares"
   ]
  },
  {
   "cell_type": "markdown",
   "id": "430bf021-cd81-44eb-9328-917fe4611766",
   "metadata": {},
   "source": [
    "**Also, you can use list comprehension like containing for or if**"
   ]
  },
  {
   "cell_type": "code",
   "execution_count": 40,
   "id": "28f753b0-d288-485d-9929-47fa73a6849b",
   "metadata": {},
   "outputs": [
    {
     "data": {
      "text/plain": [
       "[('a', 'd'), ('a', 'e'), ('b', 'd'), ('b', 'e'), ('c', 'd'), ('c', 'e')]"
      ]
     },
     "execution_count": 40,
     "metadata": {},
     "output_type": "execute_result"
    }
   ],
   "source": [
    "# Cartesian product\n",
    "[(x, y) for x in [\"a\", \"b\", \"c\"] for y in [\"d\", \"e\"]]"
   ]
  },
  {
   "cell_type": "code",
   "execution_count": 18,
   "id": "9aa4c6ab-173b-4c0e-9311-cb97199b6a48",
   "metadata": {},
   "outputs": [
    {
     "data": {
      "text/plain": [
       "[('a', 'd'), ('a', 'e'), ('b', 'd'), ('b', 'e'), ('c', 'd'), ('c', 'e')]"
      ]
     },
     "execution_count": 18,
     "metadata": {},
     "output_type": "execute_result"
    }
   ],
   "source": [
    "# naive \n",
    "cartesian = []\n",
    "for x in [\"a\", \"b\", \"c\"]:\n",
    "    for y in [\"d\", \"e\"]:\n",
    "        cartesian.append((x, y))\n",
    "cartesian"
   ]
  },
  {
   "cell_type": "markdown",
   "id": "6c010358-4ae0-4d16-8f19-dfcc62a196ef",
   "metadata": {},
   "source": [
    "**the tuple must be parenthesized, or an error is raised**"
   ]
  },
  {
   "cell_type": "code",
   "execution_count": 41,
   "id": "6557ccb1-7fda-4363-a904-38ee8721d076",
   "metadata": {},
   "outputs": [
    {
     "ename": "SyntaxError",
     "evalue": "did you forget parentheses around the comprehension target? (3974538884.py, line 1)",
     "output_type": "error",
     "traceback": [
      "\u001b[1;36m  Input \u001b[1;32mIn [41]\u001b[1;36m\u001b[0m\n\u001b[1;33m    [x, y for x in [\"a\", \"b\", \"c\"] for y in [\"d\", \"e\"]]\u001b[0m\n\u001b[1;37m     ^\u001b[0m\n\u001b[1;31mSyntaxError\u001b[0m\u001b[1;31m:\u001b[0m did you forget parentheses around the comprehension target?\n"
     ]
    }
   ],
   "source": [
    "[x, y for x in [\"a\", \"b\", \"c\"] for y in [\"d\", \"e\"]]"
   ]
  },
  {
   "cell_type": "code",
   "execution_count": 42,
   "id": "ebc34f34-411b-4277-b903-68cf98b25aec",
   "metadata": {},
   "outputs": [
    {
     "data": {
      "text/plain": [
       "[5, 6, 9]"
      ]
     },
     "execution_count": 42,
     "metadata": {},
     "output_type": "execute_result"
    }
   ],
   "source": [
    "fruits = [\"apple\", \"banana\", \"pineapple\"]\n",
    "\n",
    "[len(f) for f in fruits]"
   ]
  },
  {
   "cell_type": "code",
   "execution_count": 43,
   "id": "83751b3a-5f98-4101-8ff2-0516e841f810",
   "metadata": {},
   "outputs": [
    {
     "data": {
      "text/plain": [
       "['apple', 'banana', 'pineapple']"
      ]
     },
     "execution_count": 43,
     "metadata": {},
     "output_type": "execute_result"
    }
   ],
   "source": [
    "fruits = [\"     ap ple\", \"b a n a n a\", \"pine ap ple\"]\n",
    "[f.replace(\" \", \"\") for f in fruits]"
   ]
  },
  {
   "cell_type": "code",
   "execution_count": 47,
   "id": "809c54b0-08b1-491f-9e50-71853d32ad9c",
   "metadata": {},
   "outputs": [
    {
     "data": {
      "text/plain": [
       "['3.1', '3.14', '3.142', '3.1416', '3.14159']"
      ]
     },
     "execution_count": 47,
     "metadata": {},
     "output_type": "execute_result"
    }
   ],
   "source": [
    "from math import pi\n",
    "\n",
    "# round(a, i) rounded and displayed to the i-th decimal place \n",
    "[str(round(pi, i)) for i in range(1, 6)]\n"
   ]
  },
  {
   "cell_type": "markdown",
   "id": "b131ada7-c8b0-488a-95f0-730f30120162",
   "metadata": {},
   "source": [
    "## 5.1.4. Nested List Comprehensions\n",
    "**The initial expression in a list comprehension can be any arbitrary expression, including another list comprehension.**"
   ]
  },
  {
   "cell_type": "code",
   "execution_count": 49,
   "id": "77b252ca-d563-4192-a96c-e04683633c6d",
   "metadata": {},
   "outputs": [],
   "source": [
    "# 3x4 matrix\n",
    "matrix = [\n",
    "    [3, 4, 5, 6],\n",
    "    [9, 8, 7, 6],\n",
    "    [5, 4, 8, 7],\n",
    "]"
   ]
  },
  {
   "cell_type": "code",
   "execution_count": 51,
   "id": "45d3d277-d651-49cf-957b-a526b506b912",
   "metadata": {},
   "outputs": [
    {
     "data": {
      "text/plain": [
       "[[3, 9, 5], [4, 8, 4], [5, 7, 8], [6, 6, 7]]"
      ]
     },
     "execution_count": 51,
     "metadata": {},
     "output_type": "execute_result"
    }
   ],
   "source": [
    "# transepose rows and columns \n",
    "[[r[i] for r in matrix] for i in range(4)] "
   ]
  },
  {
   "cell_type": "code",
   "execution_count": 50,
   "id": "03c1c4c3-c049-4203-996c-1d2e9c2e35bc",
   "metadata": {},
   "outputs": [
    {
     "data": {
      "text/plain": [
       "[[3, 9, 5], [4, 8, 4], [5, 7, 8], [6, 6, 7]]"
      ]
     },
     "execution_count": 50,
     "metadata": {},
     "output_type": "execute_result"
    }
   ],
   "source": [
    "# convert the above code to the naive for clause. it is too long...\n",
    "transposed = []\n",
    "for i in range(4):\n",
    "    tr = []\n",
    "    for r in matrix:\n",
    "        tr.append(r[i])\n",
    "    transposed.append(tr)\n",
    "transposed"
   ]
  },
  {
   "cell_type": "code",
   "execution_count": null,
   "id": "efa7c91d-79f7-44c0-b8a5-2e6eac2a8839",
   "metadata": {},
   "outputs": [],
   "source": []
  }
 ],
 "metadata": {
  "kernelspec": {
   "display_name": "Python 3 (ipykernel)",
   "language": "python",
   "name": "python3"
  },
  "language_info": {
   "codemirror_mode": {
    "name": "ipython",
    "version": 3
   },
   "file_extension": ".py",
   "mimetype": "text/x-python",
   "name": "python",
   "nbconvert_exporter": "python",
   "pygments_lexer": "ipython3",
   "version": "3.10.1"
  }
 },
 "nbformat": 4,
 "nbformat_minor": 5
}

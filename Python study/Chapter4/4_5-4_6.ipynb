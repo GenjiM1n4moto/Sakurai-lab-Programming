{
 "cells": [
  {
   "cell_type": "markdown",
   "id": "f51b7d5b-4015-4eae-8e87-85b7b832628e",
   "metadata": {},
   "source": [
    "# 4.5.pass Statements\n",
    "The pass statement does nothing.It can be used when a statement is required syntacticaly but the program requires no action."
   ]
  },
  {
   "cell_type": "code",
   "execution_count": null,
   "id": "0bc8191e-41e8-46c6-ae84-b4bba338a89d",
   "metadata": {},
   "outputs": [],
   "source": [
    "while True:\n",
    "    pass"
   ]
  },
  {
   "cell_type": "markdown",
   "id": "34d67cab-b22b-410a-b890-7b57c7d0151a",
   "metadata": {},
   "source": [
    "This is the method often used to create the smallest class:"
   ]
  },
  {
   "cell_type": "code",
   "execution_count": 1,
   "id": "c8be3682-d174-4ec4-9e5c-2fb18d12a5f3",
   "metadata": {},
   "outputs": [],
   "source": [
    "class MyEmptyClass:\n",
    "    pass"
   ]
  },
  {
   "cell_type": "markdown",
   "id": "9e3c3e6f-dccf-425c-a689-fa1430709861",
   "metadata": {},
   "source": [
    "Another use for pass is as a temporary body for functions and conditional statements when you are writing new code. This way, you can continue to think at a more abstract level. pass is ignored without incident."
   ]
  },
  {
   "cell_type": "code",
   "execution_count": 2,
   "id": "77dc83b3-6f35-4ca3-ab83-4b0c865a0482",
   "metadata": {},
   "outputs": [],
   "source": [
    "def initlog(*args):\n",
    "    pass   # Remember to implement this!"
   ]
  },
  {
   "cell_type": "markdown",
   "id": "c880264f-1a3f-412a-8dff-0b5e1e8149ba",
   "metadata": {},
   "source": [
    "# 4.6. match Statements\n",
    "\n",
    "A match statement takes an expression and compares its value to successive patterns given as one or more case blocks. This is superficially similar to a switch statement in C, Java or JavaScript (and many other languages), but it can also extract components (sequence elements or object attributes) from the value into variables."
   ]
  },
  {
   "cell_type": "markdown",
   "id": "0f97f9b6-3d4e-4412-b76d-fb995e790496",
   "metadata": {},
   "source": [
    "The simplest form compares a subject value against one or more literals:"
   ]
  },
  {
   "cell_type": "code",
   "execution_count": 3,
   "id": "7d9e4b0a-6382-4011-8c43-9efc6427b795",
   "metadata": {},
   "outputs": [
    {
     "data": {
      "text/plain": [
       "\"Something's wrong with the internet\""
      ]
     },
     "execution_count": 3,
     "metadata": {},
     "output_type": "execute_result"
    }
   ],
   "source": [
    "def http_error(status):\n",
    "    match status:\n",
    "        case 400:\n",
    "            return \"Bad request\"\n",
    "        case 404:\n",
    "            return \"Not found\"\n",
    "        case 418:\n",
    "            return \"I'm a teapot\"\n",
    "        case _:\n",
    "            return \"Something's wrong with the internet\"\n",
    "        \n",
    "http_error(401)"
   ]
  },
  {
   "cell_type": "markdown",
   "id": "aa8aa282-b89d-42db-ac15-39fe8233dd41",
   "metadata": {},
   "source": [
    "Note the last block: the “variable name” _ acts as a wildcard and never fails to match. If no case matches, none of the branches is executed.\n",
    "\n",
    "You can combine several literals in a single pattern using | (“or”):"
   ]
  },
  {
   "cell_type": "code",
   "execution_count": 7,
   "id": "910e47e5-18da-4f3e-98eb-d559dd6c044b",
   "metadata": {},
   "outputs": [
    {
     "data": {
      "text/plain": [
       "'Not allowed'"
      ]
     },
     "execution_count": 7,
     "metadata": {},
     "output_type": "execute_result"
    }
   ],
   "source": [
    "def http_error(status):\n",
    "    match status:\n",
    "        case 400:\n",
    "            return \"Bad request\"\n",
    "        case 401 | 403 | 404:\n",
    "            return \"Not allowed\"\n",
    "        case _:\n",
    "            return \"Something's wrong with the internet\"\n",
    "        \n",
    "http_error(401)"
   ]
  },
  {
   "cell_type": "markdown",
   "id": "874dcfd8-978e-43ff-a596-05dea81babbb",
   "metadata": {},
   "source": [
    "Patterns can look like unpacking assignments, and can be used to bind variables:"
   ]
  },
  {
   "cell_type": "code",
   "execution_count": 4,
   "id": "cefdad19-3487-4f92-b295-dde3dd964e71",
   "metadata": {},
   "outputs": [
    {
     "name": "stdout",
     "output_type": "stream",
     "text": [
      "X=1, Y=1\n"
     ]
    }
   ],
   "source": [
    "#point is an (x,y) tuple\n",
    "point=(1,1)\n",
    "match point:\n",
    "    case (0,0):\n",
    "        print(\"Origin\")\n",
    "    case (0,y):\n",
    "        print(f\"Y={y}\")\n",
    "    case (x,0):\n",
    "        print(f\"Y={y}\")\n",
    "    case (x,y):\n",
    "        print(f\"X={x}, Y={y}\")\n",
    "    case _:\n",
    "        raise ValueError(\"Not a point\")"
   ]
  },
  {
   "cell_type": "markdown",
   "id": "d04fc134-02c0-4bc6-8675-cbb6e14f0e67",
   "metadata": {},
   "source": [
    "The first pattern has two literals, and can be thought of as an extension of the literal pattern shown above. But the next two patterns combine a literal and a variable, and the variable binds a value from the subject (point). The fourth pattern captures two values, which makes it conceptually similar to the unpacking assignment (x, y) = point.\n",
    "\n",
    "If you are using classes to structure your data you can use the class name followed by an argument list resembling a constructor, but with the ability to capture attributes into variables:"
   ]
  },
  {
   "cell_type": "code",
   "execution_count": 27,
   "id": "1e697c07-95a4-4780-a23e-e3b4a9f1bd2e",
   "metadata": {},
   "outputs": [
    {
     "name": "stdout",
     "output_type": "stream",
     "text": [
      "Origin\n",
      "None\n"
     ]
    }
   ],
   "source": [
    "from dataclasses import dataclass\n",
    "\n",
    "\n",
    "@dataclass\n",
    "class Point:\n",
    "    x: int\n",
    "    y: int\n",
    "\n",
    "    def where_is(point):\n",
    "        match point:\n",
    "            case Point(x=0, y=0):\n",
    "                print(\"Origin\")\n",
    "            case Point(x=0, y=y):\n",
    "                print(f\"Y={y}\")\n",
    "            case Point(x=x, y=0):\n",
    "                print(f\"X={x}\")\n",
    "            case Point():\n",
    "                print(\"Somewhere else\")\n",
    "            case _:\n",
    "                print(\"Not a point\")\n",
    "\n",
    "point=Point(0,0)\n",
    "print(point.where_is())\n"
   ]
  },
  {
   "cell_type": "markdown",
   "id": "a9737346-7204-4b1d-ac3f-f48c120928d6",
   "metadata": {
    "tags": []
   },
   "source": [
    "You can use positional parameters with some builtin classes that provide an ordering for their attributes (e.g. dataclasses).  If it’s set to (“x”, “y”), the following patterns are all equivalent (and all bind the y attribute to the var variable):"
   ]
  },
  {
   "cell_type": "code",
   "execution_count": 35,
   "id": "f152247f-6bdf-41d5-b5a2-3283a424f177",
   "metadata": {},
   "outputs": [
    {
     "data": {
      "text/plain": [
       "Point(x=1, y=1)"
      ]
     },
     "execution_count": 35,
     "metadata": {},
     "output_type": "execute_result"
    }
   ],
   "source": [
    "from dataclasses import dataclass\n",
    "\n",
    "@dataclass\n",
    "class Point:\n",
    "    x: int\n",
    "    y: int\n",
    "\n",
    "var:int\n",
    "\n",
    "Point(1, var)\n",
    "Point(1, y=var)\n",
    "Point(x=1, y=var)\n",
    "Point(y=var, x=1)"
   ]
  },
  {
   "cell_type": "markdown",
   "id": "86ddd3e2-71f7-43a6-a345-5d3d6aa9dc61",
   "metadata": {},
   "source": [
    "Patterns can be arbitrarily nested. For example, if we have a short list of points, we could match it like this:"
   ]
  },
  {
   "cell_type": "code",
   "execution_count": 44,
   "id": "083e17d3-ae63-4c6e-921b-a9bb0d881804",
   "metadata": {},
   "outputs": [
    {
     "name": "stdout",
     "output_type": "stream",
     "text": [
      "Two on the Y axis at 1, 1\n"
     ]
    }
   ],
   "source": [
    "from dataclasses import dataclass\n",
    "\n",
    "@dataclass\n",
    "class Point:\n",
    "    x: int\n",
    "    y: int\n",
    "\n",
    "points=[Point(0,1),Point(0,1)]\n",
    "\n",
    "match points:\n",
    "    case []:\n",
    "        print(\"No points\")\n",
    "    case [Point(0, 0)]:\n",
    "        print(\"The origin\")\n",
    "    case [Point(x, y)]:\n",
    "        print(f\"Single point {x}, {y}\")\n",
    "    case [Point(0, y1), Point(0, y2)]:\n",
    "        print(f\"Two on the Y axis at {y1}, {y2}\")\n",
    "    case _:\n",
    "        print(\"Something else\")"
   ]
  },
  {
   "cell_type": "markdown",
   "id": "558a550e-a212-4af9-a665-8377a151b2fe",
   "metadata": {},
   "source": [
    "We can add an if clause to a pattern, known as a “guard”. If the guard is false, match goes on to try the next case block. Note that value capture happens before the guard is evaluated:"
   ]
  },
  {
   "cell_type": "code",
   "execution_count": 46,
   "id": "ced36b0d-10a3-4413-a990-59d84c49c0d2",
   "metadata": {},
   "outputs": [
    {
     "name": "stdout",
     "output_type": "stream",
     "text": [
      "Y=X at 1\n"
     ]
    }
   ],
   "source": [
    "from dataclasses import dataclass\n",
    "\n",
    "@dataclass\n",
    "class Point:\n",
    "    x: int\n",
    "    y: int\n",
    "\n",
    "point=Point(1,1)\n",
    "\n",
    "match point:\n",
    "    case Point(x, y) if x == y:\n",
    "        print(f\"Y=X at {x}\")\n",
    "    case Point(x, y):\n",
    "        print(f\"Not on the diagonal\")"
   ]
  },
  {
   "cell_type": "markdown",
   "id": "9c904a08-91f7-49cb-97a6-a5fa6393af16",
   "metadata": {},
   "source": [
    "・Subpatterns may be captured using the as keyword:"
   ]
  },
  {
   "cell_type": "code",
   "execution_count": 48,
   "id": "600837c6-142c-4fd7-a855-89e435001b64",
   "metadata": {},
   "outputs": [
    {
     "name": "stdout",
     "output_type": "stream",
     "text": [
      "Two points (1,1),(1,2)\n",
      "Point(x=1, y=2)\n"
     ]
    }
   ],
   "source": [
    "from dataclasses import dataclass\n",
    "\n",
    "@dataclass\n",
    "class Point:\n",
    "    x: int\n",
    "    y: int\n",
    "\n",
    "points=(Point(1,1),Point(1,2))\n",
    "\n",
    "match points:\n",
    "    case (Point(x1, y1), Point(x2, y2) as p2):\n",
    "        print(f\"Two points ({x1},{y1}),({x2},{y2})\")\n",
    "    case _:\n",
    "        print(\"Something else\")\n",
    "\n",
    "print(p2)"
   ]
  },
  {
   "cell_type": "markdown",
   "id": "49d7f7ca-50e0-45b6-b167-73d0dba38305",
   "metadata": {},
   "source": [
    "will capture the second element of the input as p2 (as long as the input is a sequence of two points)"
   ]
  },
  {
   "cell_type": "code",
   "execution_count": null,
   "id": "310cfb22-58f4-44df-8c37-bd9d31b7853c",
   "metadata": {},
   "outputs": [],
   "source": []
  },
  {
   "cell_type": "code",
   "execution_count": null,
   "id": "06383b71-94af-4daf-af79-9d80accf5fea",
   "metadata": {},
   "outputs": [],
   "source": []
  }
 ],
 "metadata": {
  "kernelspec": {
   "display_name": "Python 3 (ipykernel)",
   "language": "python",
   "name": "python3"
  },
  "language_info": {
   "codemirror_mode": {
    "name": "ipython",
    "version": 3
   },
   "file_extension": ".py",
   "mimetype": "text/x-python",
   "name": "python",
   "nbconvert_exporter": "python",
   "pygments_lexer": "ipython3",
   "version": "3.10.4"
  }
 },
 "nbformat": 4,
 "nbformat_minor": 5
}

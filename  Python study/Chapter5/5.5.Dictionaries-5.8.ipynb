{
 "cells": [
  {
   "cell_type": "markdown",
   "metadata": {},
   "source": [
    "# Programming Study Seminar\n",
    "## 5.5. Dictionaries"
   ]
  },
  {
   "cell_type": "markdown",
   "metadata": {},
   "source": [
    "### What is the dictionary"
   ]
  },
  {
   "cell_type": "markdown",
   "metadata": {},
   "source": [
    "Dictionaries are used to store data values in key:value pairs.\n",
    "\n",
    "Same as real dictionary(辞書), there is a one-to-one correspondence between each key and value.\n",
    "\n",
    "A pair of braces creates an empty dictionary: '{ }'. We use comma ',' to seperate each key:value pair within the brace and use colon ':' to seperate key and value.\n",
    "\n",
    "Here is an example.\n",
    "\n",
    "'apple': 'リンゴ' is the first item. In the first item, 'apple' is the key and 'リンゴ' is the value.\n",
    "\n",
    "Using type( ), we can check the type of the dictionary."
   ]
  },
  {
   "cell_type": "code",
   "execution_count": 12,
   "metadata": {
    "scrolled": false
   },
   "outputs": [
    {
     "name": "stdout",
     "output_type": "stream",
     "text": [
      "{'apple': 'リンゴ', 'banana': 'バナナ', 'watermelon': 'スイカ'}\n",
      "<class 'dict'>\n"
     ]
    }
   ],
   "source": [
    "d_1 = {'apple': 'リンゴ', 'banana': 'バナナ', 'watermelon': 'スイカ'}\n",
    "print(d_1)\n",
    "print(type(d_1))"
   ]
  },
  {
   "cell_type": "markdown",
   "metadata": {},
   "source": [
    "We can use d['key'] to access the value in the dictionary."
   ]
  },
  {
   "cell_type": "code",
   "execution_count": 13,
   "metadata": {
    "scrolled": true
   },
   "outputs": [
    {
     "name": "stdout",
     "output_type": "stream",
     "text": [
      "リンゴ\n"
     ]
    }
   ],
   "source": [
    "print(d_1['apple'])"
   ]
  },
  {
   "cell_type": "markdown",
   "metadata": {},
   "source": [
    "Using len() to get the length of the dictionary."
   ]
  },
  {
   "cell_type": "code",
   "execution_count": 14,
   "metadata": {},
   "outputs": [
    {
     "name": "stdout",
     "output_type": "stream",
     "text": [
      "3\n"
     ]
    }
   ],
   "source": [
    "print(len(d_1))"
   ]
  },
  {
   "cell_type": "markdown",
   "metadata": {},
   "source": [
    "We can add new items in the dictionary."
   ]
  },
  {
   "cell_type": "code",
   "execution_count": 4,
   "metadata": {},
   "outputs": [
    {
     "name": "stdout",
     "output_type": "stream",
     "text": [
      "{'apple': 'リンゴ', 'banana': 'バナナ', 'watermelon': 'スイカ', 'strawberry': 'イチゴ'}\n"
     ]
    }
   ],
   "source": [
    "d_1['strawberry'] = 'イチゴ'\n",
    "print(d_1)"
   ]
  },
  {
   "cell_type": "markdown",
   "metadata": {},
   "source": [
    "We can also update the dictionary."
   ]
  },
  {
   "cell_type": "code",
   "execution_count": 5,
   "metadata": {},
   "outputs": [
    {
     "name": "stdout",
     "output_type": "stream",
     "text": [
      "{'apple': 'i dont know', 'banana': 'バナナ', 'watermelon': 'スイカ', 'strawberry': 'イチゴ'}\n"
     ]
    }
   ],
   "source": [
    "d_1['apple'] = 'i dont know'\n",
    "print(d_1)"
   ]
  },
  {
   "cell_type": "markdown",
   "metadata": {},
   "source": [
    "To check whether a single key is in the dictionary, use the in keyword."
   ]
  },
  {
   "cell_type": "code",
   "execution_count": 6,
   "metadata": {},
   "outputs": [
    {
     "name": "stdout",
     "output_type": "stream",
     "text": [
      "True\n",
      "False\n"
     ]
    }
   ],
   "source": [
    "print('apple' in d_1)\n",
    "print('apple' not in d_1)"
   ]
  },
  {
   "cell_type": "markdown",
   "metadata": {},
   "source": [
    "We can use list(d) to check all keys in the dictionary. \n",
    "\n",
    "Using sorted(d) to get an ordered list of keys."
   ]
  },
  {
   "cell_type": "code",
   "execution_count": 7,
   "metadata": {},
   "outputs": [
    {
     "name": "stdout",
     "output_type": "stream",
     "text": [
      "['apple', 'banana', 'watermelon', 'strawberry']\n",
      "['apple', 'banana', 'strawberry', 'watermelon']\n"
     ]
    }
   ],
   "source": [
    "print(list(d_1))\n",
    "print(sorted(d_1))"
   ]
  },
  {
   "cell_type": "markdown",
   "metadata": {},
   "source": [
    "We can use del d['key'] to delete the item in the dictionary. Also, we can use d.clear() to remove all."
   ]
  },
  {
   "cell_type": "code",
   "execution_count": 8,
   "metadata": {},
   "outputs": [
    {
     "name": "stdout",
     "output_type": "stream",
     "text": [
      "{'banana': 'バナナ', 'watermelon': 'スイカ', 'strawberry': 'イチゴ'}\n"
     ]
    }
   ],
   "source": [
    "del d_1['apple']\n",
    "print(d_1)"
   ]
  },
  {
   "cell_type": "code",
   "execution_count": 9,
   "metadata": {},
   "outputs": [
    {
     "name": "stdout",
     "output_type": "stream",
     "text": [
      "{}\n"
     ]
    }
   ],
   "source": [
    "d_1.clear()\n",
    "print(d_1)"
   ]
  },
  {
   "cell_type": "markdown",
   "metadata": {},
   "source": [
    "### More about Keys\n",
    "\n",
    "No duplicate key is allowed. When duplicate keys encountered during assignment, the last assignment wins.\n",
    "\n",
    "However, values can be any type."
   ]
  },
  {
   "cell_type": "code",
   "execution_count": 10,
   "metadata": {},
   "outputs": [
    {
     "name": "stdout",
     "output_type": "stream",
     "text": [
      "{'Name': 'He', 'Age': '21'}\n"
     ]
    }
   ],
   "source": [
    "d_2 = {'Name': 'Liu', 'Age': '21', 'Name': 'He'}\n",
    "print(d_2)"
   ]
  },
  {
   "cell_type": "markdown",
   "metadata": {},
   "source": [
    "Keys must be immutable. Which means you can use strings, numbers or tuples as dictionary keys but list is not allowed."
   ]
  },
  {
   "cell_type": "code",
   "execution_count": 11,
   "metadata": {},
   "outputs": [
    {
     "name": "stdout",
     "output_type": "stream",
     "text": [
      "{4: 'four', 'Age': '21', ('i', 'am', 'a', 'student'): 'yes'}\n"
     ]
    },
    {
     "ename": "TypeError",
     "evalue": "unhashable type: 'list'",
     "output_type": "error",
     "traceback": [
      "\u001b[0;31m---------------------------------------------------------------------------\u001b[0m",
      "\u001b[0;31mTypeError\u001b[0m                                 Traceback (most recent call last)",
      "\u001b[0;32m<ipython-input-11-ea7b228b13b3>\u001b[0m in \u001b[0;36m<module>\u001b[0;34m\u001b[0m\n\u001b[1;32m      1\u001b[0m \u001b[0md_3\u001b[0m \u001b[0;34m=\u001b[0m \u001b[0;34m{\u001b[0m\u001b[0;36m4\u001b[0m\u001b[0;34m:\u001b[0m \u001b[0;34m'four'\u001b[0m\u001b[0;34m,\u001b[0m \u001b[0;34m'Age'\u001b[0m\u001b[0;34m:\u001b[0m \u001b[0;34m'21'\u001b[0m\u001b[0;34m,\u001b[0m \u001b[0;34m(\u001b[0m\u001b[0;34m'i'\u001b[0m\u001b[0;34m,\u001b[0m\u001b[0;34m'am'\u001b[0m\u001b[0;34m,\u001b[0m\u001b[0;34m'a'\u001b[0m\u001b[0;34m,\u001b[0m\u001b[0;34m'student'\u001b[0m\u001b[0;34m)\u001b[0m\u001b[0;34m:\u001b[0m \u001b[0;34m'yes'\u001b[0m\u001b[0;34m}\u001b[0m\u001b[0;34m\u001b[0m\u001b[0;34m\u001b[0m\u001b[0m\n\u001b[1;32m      2\u001b[0m \u001b[0mprint\u001b[0m\u001b[0;34m(\u001b[0m\u001b[0md_3\u001b[0m\u001b[0;34m)\u001b[0m\u001b[0;34m\u001b[0m\u001b[0;34m\u001b[0m\u001b[0m\n\u001b[0;32m----> 3\u001b[0;31m \u001b[0md_4\u001b[0m \u001b[0;34m=\u001b[0m \u001b[0;34m{\u001b[0m\u001b[0;34m[\u001b[0m\u001b[0;34m'list'\u001b[0m\u001b[0;34m]\u001b[0m\u001b[0;34m:\u001b[0m \u001b[0;34m\"False\"\u001b[0m\u001b[0;34m}\u001b[0m\u001b[0;34m\u001b[0m\u001b[0;34m\u001b[0m\u001b[0m\n\u001b[0m\u001b[1;32m      4\u001b[0m \u001b[0mprint\u001b[0m\u001b[0;34m(\u001b[0m\u001b[0md_4\u001b[0m\u001b[0;34m)\u001b[0m\u001b[0;34m\u001b[0m\u001b[0;34m\u001b[0m\u001b[0m\n",
      "\u001b[0;31mTypeError\u001b[0m: unhashable type: 'list'"
     ]
    }
   ],
   "source": [
    "d_3 = {4: 'four', 'Age': '21', ('i','am','a','student'): 'yes'}\n",
    "print(d_3)\n",
    "d_4 = {['list']: \"False\"}\n",
    "print(d_4)"
   ]
  },
  {
   "cell_type": "markdown",
   "metadata": {},
   "source": [
    "### More Functions and Methods"
   ]
  },
  {
   "cell_type": "markdown",
   "metadata": {},
   "source": [
    "dict( ): It is used for creating dictionaries."
   ]
  },
  {
   "cell_type": "code",
   "execution_count": 15,
   "metadata": {},
   "outputs": [
    {
     "name": "stdout",
     "output_type": "stream",
     "text": [
      "dict_1: {}\n",
      "dict_2: {'a': 'a', 'b': 'b', 't': 't'}\n",
      "dict_3: {'one': 1, 'two': 2, 'three': 3}\n",
      "dict_4: {'four': 4, 'five': 5, 'six': 6}\n",
      "dict_5: {2: 4, 4: 16, 6: 36}\n"
     ]
    }
   ],
   "source": [
    "dict_1 = dict()\n",
    "dict_2 = dict(a = 'a', b = 'b', t = 't')\n",
    "dict_3 = dict(zip(['one', 'two', 'three'], [1, 2, 3]))\n",
    "dict_4 = dict([('four', 4), ('five', 5), ('six', 6)])\n",
    "dict_5 = dict({x: x**2 for x in (2, 4, 6)})\n",
    "print('dict_1:', dict_1)\n",
    "print('dict_2:', dict_2)\n",
    "print('dict_3:', dict_3)\n",
    "print('dict_4:', dict_4)\n",
    "print('dict_5:', dict_5)"
   ]
  },
  {
   "cell_type": "markdown",
   "metadata": {},
   "source": [
    "dict.copy( ): Returns a shallow copy of dictionary."
   ]
  },
  {
   "cell_type": "code",
   "execution_count": 16,
   "metadata": {},
   "outputs": [
    {
     "name": "stdout",
     "output_type": "stream",
     "text": [
      "{'Name': 'Liu'}\n"
     ]
    }
   ],
   "source": [
    "dict_6 = {'Name': 'Liu'}\n",
    "dict_7 = dict_6.copy()\n",
    "print(dict_7)"
   ]
  },
  {
   "cell_type": "markdown",
   "metadata": {},
   "source": [
    "dict.items( ): Returns a list of dict's (key, value) tuple pairs.\n",
    "\n",
    "dict.keys( ): Returns list of dictionary dict's keys.\n",
    "\n",
    "dict.values( ): Returns list of dictionary dict's values."
   ]
  },
  {
   "cell_type": "code",
   "execution_count": 17,
   "metadata": {},
   "outputs": [
    {
     "name": "stdout",
     "output_type": "stream",
     "text": [
      "dict_items([('apple', 'リンゴ'), ('banana', 'バナナ'), ('watermelon', 'スイカ')])\n",
      "dict_keys(['apple', 'banana', 'watermelon'])\n",
      "dict_values(['リンゴ', 'バナナ', 'スイカ'])\n"
     ]
    }
   ],
   "source": [
    "dict_8 = {'apple': 'リンゴ', 'banana': 'バナナ', 'watermelon': 'スイカ'}\n",
    "print(dict_8.items())\n",
    "print(dict_8.keys())\n",
    "print(dict_8.values())"
   ]
  },
  {
   "cell_type": "markdown",
   "metadata": {},
   "source": [
    "We have another way to find the value based on the key.\n",
    "\n",
    "dict.get(key, default=None): For 'key', returns value or default if key not in dictionary"
   ]
  },
  {
   "cell_type": "code",
   "execution_count": 18,
   "metadata": {},
   "outputs": [
    {
     "name": "stdout",
     "output_type": "stream",
     "text": [
      "Value:  21\n",
      "Value:  None\n",
      "Value:  DoNotExist\n"
     ]
    }
   ],
   "source": [
    "dict_9 = {'Name': 'Liu', 'Age': 21}\n",
    "print(\"Value: \", dict_9.get('Age'))\n",
    "print(\"Value: \", dict_9.get('School'))\n",
    "print(\"Value: \", dict_9.get('School', 'DoNotExist'))"
   ]
  },
  {
   "cell_type": "markdown",
   "metadata": {},
   "source": [
    "## 5.6. Looping Techniques"
   ]
  },
  {
   "cell_type": "markdown",
   "metadata": {},
   "source": [
    "We have learned dict.items( ) above. When looping through dictionaries, the key and corresponding value can be retrieved at the same time using the items( ) method.\n",
    "\n",
    "We can use one or more parameters in the loop."
   ]
  },
  {
   "cell_type": "code",
   "execution_count": 19,
   "metadata": {},
   "outputs": [
    {
     "name": "stdout",
     "output_type": "stream",
     "text": [
      "apple:リンゴ\n",
      "banana:バナナ\n",
      "watermelon:スイカ\n",
      "-----------------\n",
      "('apple', 'リンゴ')\n",
      "('banana', 'バナナ')\n",
      "('watermelon', 'スイカ')\n"
     ]
    }
   ],
   "source": [
    "dict = {'apple': 'リンゴ', 'banana': 'バナナ', 'watermelon': 'スイカ'}\n",
    "\n",
    "for key,value in dict_8.items():\n",
    "    print(key + ':' + str(value))\n",
    "    \n",
    "print('-----------------')\n",
    "\n",
    "for i in dict_8.items():\n",
    "    print(i)"
   ]
  },
  {
   "cell_type": "markdown",
   "metadata": {},
   "source": [
    "### Looping Through a Sequence"
   ]
  },
  {
   "cell_type": "markdown",
   "metadata": {},
   "source": [
    "We can use enumerate( ) function to retrieve the position index and corresponding value."
   ]
  },
  {
   "cell_type": "code",
   "execution_count": 20,
   "metadata": {},
   "outputs": [
    {
     "name": "stdout",
     "output_type": "stream",
     "text": [
      "0 first\n",
      "1 second\n",
      "2 third\n"
     ]
    }
   ],
   "source": [
    "for index, value in enumerate(['first', 'second', 'third']):\n",
    "    print(index, value)"
   ]
  },
  {
   "cell_type": "markdown",
   "metadata": {},
   "source": [
    "We can use the zip( ) function to loop over two or more sequences at the same time."
   ]
  },
  {
   "cell_type": "code",
   "execution_count": 21,
   "metadata": {},
   "outputs": [
    {
     "name": "stdout",
     "output_type": "stream",
     "text": [
      "name? Liu.\n",
      "age? 21.\n",
      "school? kyudai.\n"
     ]
    }
   ],
   "source": [
    "questions = ['name', 'age', 'school']\n",
    "answers = ['Liu', '21', 'kyudai']\n",
    "for q, a in zip(questions, answers):\n",
    "    print('{0}? {1}.'.format(q, a))"
   ]
  },
  {
   "attachments": {
    "python-operator-precedence.jpg": {
     "image/jpeg": "[encoded data removed]"
    }
   },
   "cell_type": "markdown",
   "metadata": {},
   "source": [
    "## 5.7. More on Conditions\n",
    "\n",
    "![python-operator-precedence.jpg](attachment:python-operator-precedence.jpg)\n",
    "\n",
    "The Boolean operators 'and' and 'or' are so-called short-circuit operators: their arguments are evaluated from left to right, and evaluation stops as soon as the outcome is determined. "
   ]
  },
  {
   "cell_type": "code",
   "execution_count": 22,
   "metadata": {},
   "outputs": [
    {
     "name": "stdout",
     "output_type": "stream",
     "text": [
      "0\n"
     ]
    }
   ],
   "source": [
    "a = 1\n",
    "b = 0\n",
    "c = 1\n",
    "print(a and b and c)  ##does not evaluate the expression"
   ]
  },
  {
   "cell_type": "code",
   "execution_count": null,
   "metadata": {},
   "outputs": [],
   "source": []
  }
 ],
 "metadata": {
  "kernelspec": {
   "display_name": "Python 3",
   "language": "python",
   "name": "python3"
  },
  "language_info": {
   "codemirror_mode": {
    "name": "ipython",
    "version": 3
   },
   "file_extension": ".py",
   "mimetype": "text/x-python",
   "name": "python",
   "nbconvert_exporter": "python",
   "pygments_lexer": "ipython3",
   "version": "3.7.6"
  }
 },
 "nbformat": 4,
 "nbformat_minor": 4
}

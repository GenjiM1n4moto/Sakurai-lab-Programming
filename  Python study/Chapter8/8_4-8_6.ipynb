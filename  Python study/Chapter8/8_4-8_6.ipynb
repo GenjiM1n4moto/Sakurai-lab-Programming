{
 "cells": [
  {
   "cell_type": "markdown",
   "id": "de878d7b-0431-44f1-9971-a589b16476dd",
   "metadata": {},
   "source": [
    "# 8.4 Raising Exceptions\n",
    "\n",
    "プログラムの中で何か問題を検出した時に、それを外部に伝える例外を発生されることができます。\n",
    "\n",
    "When we detect something wrong in the program, we can make exceptions which we inform outside about the problem.\n",
    "\n",
    "raise文の書き方はこのようになります。\n",
    "\n",
    "This is how to write raise statements.\n",
    "\n",
    "`raise <Ecception Class> (<message>)`\n",
    "\n",
    "メッセージは省略することも可能ですが、メンテナンス性や利用者の立場などを考えると、原因や詳細などを記述するようにした方がよいでしょう。\n",
    "\n",
    "We can omit the message, but considering maintainability and the user's position, it is better to describe the cause and details.\n",
    "\n",
    "for example:"
   ]
  },
  {
   "cell_type": "code",
   "execution_count": 4,
   "id": "a4aa0e39-ab7a-45d9-a8ca-623021aceeb1",
   "metadata": {},
   "outputs": [
    {
     "ename": "Exception",
     "evalue": "例外が発生しました",
     "output_type": "error",
     "traceback": [
      "\u001b[1;31m---------------------------------------------------------------------------\u001b[0m",
      "\u001b[1;31mException\u001b[0m                                 Traceback (most recent call last)",
      "Input \u001b[1;32mIn [4]\u001b[0m, in \u001b[0;36m<cell line: 1>\u001b[1;34m()\u001b[0m\n\u001b[1;32m----> 1\u001b[0m \u001b[38;5;28;01mraise\u001b[39;00m \u001b[38;5;167;01mException\u001b[39;00m(\u001b[38;5;124m\"\u001b[39m\u001b[38;5;124m例外が発生しました\u001b[39m\u001b[38;5;124m\"\u001b[39m)\n",
      "\u001b[1;31mException\u001b[0m: 例外が発生しました"
     ]
    }
   ],
   "source": [
    "raise Exception(\"例外が発生しました\")"
   ]
  },
  {
   "cell_type": "markdown",
   "id": "f6d42882-0685-460a-aced-821440acd762",
   "metadata": {},
   "source": [
    "次にtry-except文を使って記述してみます。\n",
    "\n",
    "Next, we try to describe with using try-except statements.\n",
    "\n",
    "基本的には、try-except文を使用することで「例外処理」を行うことができます。\n",
    "つまり、try実行中にexceptキーワードの後に指定したエラー名と一致する例外が発生すると、except文が実行され、それ以降に記述された処理も実行されます。\n",
    "\n",
    "In basically, we can execute \"Exception handling\" using try-except statements.\n",
    "So, If an exception occurs during try execution that matches the error name specified after the except keyword, the except statement is executed and the processing described thereafter is also executed.\n",
    "\n",
    "for example:"
   ]
  },
  {
   "cell_type": "code",
   "execution_count": 11,
   "id": "e4b49619-3ec6-46f9-950c-4d469cdc5aa5",
   "metadata": {},
   "outputs": [
    {
     "name": "stdout",
     "output_type": "stream",
     "text": [
      "例外が発生しました\n",
      "Hello world!\n"
     ]
    }
   ],
   "source": [
    "try:\n",
    "    raise Exception(\"例外が発生しました\")\n",
    "except Exception as e:\n",
    "    print(e)\n",
    "\n",
    "print('Hello world!')"
   ]
  },
  {
   "cell_type": "markdown",
   "id": "aaa4184b-e6f5-41cc-afac-c94c7f7c0ec3",
   "metadata": {},
   "source": [
    "結果を見ても分かるように、エラー発生箇所で処理が停止しておらず、print('Hello world')が実行されているのが分かります。\n",
    "\n",
    "As you can see this result, the process doesn't stop at the error point and print('Hello world!') is excuted."
   ]
  },
  {
   "cell_type": "markdown",
   "id": "7b4d9af0-070b-4751-bdd6-a2f6b6222ecf",
   "metadata": {
    "tags": []
   },
   "source": [
    "# 8.5. Exception Chaining\n",
    "\n",
    "raise from文を使うことで、追加情報を含む例外を発生させることができます。\n",
    "\n",
    "The raise from statement can be used to raise an exception with additional information."
   ]
  },
  {
   "cell_type": "code",
   "execution_count": 20,
   "id": "bbe3a20a-f9bd-4ea8-a652-c566863d01bf",
   "metadata": {},
   "outputs": [
    {
     "ename": "ValueError",
     "evalue": "b must not be zero",
     "output_type": "error",
     "traceback": [
      "\u001b[1;31m---------------------------------------------------------------------------\u001b[0m",
      "\u001b[1;31mZeroDivisionError\u001b[0m                         Traceback (most recent call last)",
      "Input \u001b[1;32mIn [20]\u001b[0m, in \u001b[0;36mdivide\u001b[1;34m(a, b)\u001b[0m\n\u001b[0;32m      2\u001b[0m \u001b[38;5;28;01mtry\u001b[39;00m:\n\u001b[1;32m----> 3\u001b[0m     \u001b[38;5;28;01mreturn\u001b[39;00m \u001b[43ma\u001b[49m\u001b[38;5;241;43m/\u001b[39;49m\u001b[43mb\u001b[49m\n\u001b[0;32m      4\u001b[0m \u001b[38;5;28;01mexcept\u001b[39;00m \u001b[38;5;167;01mZeroDivisionError\u001b[39;00m \u001b[38;5;28;01mas\u001b[39;00m ex:\n",
      "\u001b[1;31mZeroDivisionError\u001b[0m: division by zero",
      "\nThe above exception was the direct cause of the following exception:\n",
      "\u001b[1;31mValueError\u001b[0m                                Traceback (most recent call last)",
      "Input \u001b[1;32mIn [20]\u001b[0m, in \u001b[0;36m<cell line: 7>\u001b[1;34m()\u001b[0m\n\u001b[0;32m      4\u001b[0m     \u001b[38;5;28;01mexcept\u001b[39;00m \u001b[38;5;167;01mZeroDivisionError\u001b[39;00m \u001b[38;5;28;01mas\u001b[39;00m ex:\n\u001b[0;32m      5\u001b[0m         \u001b[38;5;28;01mraise\u001b[39;00m \u001b[38;5;167;01mValueError\u001b[39;00m(\u001b[38;5;124m'\u001b[39m\u001b[38;5;124mb must not be zero\u001b[39m\u001b[38;5;124m'\u001b[39m) \u001b[38;5;28;01mfrom\u001b[39;00m \u001b[38;5;21;01mex\u001b[39;00m\n\u001b[1;32m----> 7\u001b[0m \u001b[43mdivide\u001b[49m\u001b[43m(\u001b[49m\u001b[38;5;241;43m10\u001b[39;49m\u001b[43m,\u001b[49m\u001b[38;5;241;43m0\u001b[39;49m\u001b[43m)\u001b[49m\n",
      "Input \u001b[1;32mIn [20]\u001b[0m, in \u001b[0;36mdivide\u001b[1;34m(a, b)\u001b[0m\n\u001b[0;32m      3\u001b[0m     \u001b[38;5;28;01mreturn\u001b[39;00m a\u001b[38;5;241m/\u001b[39mb\n\u001b[0;32m      4\u001b[0m \u001b[38;5;28;01mexcept\u001b[39;00m \u001b[38;5;167;01mZeroDivisionError\u001b[39;00m \u001b[38;5;28;01mas\u001b[39;00m ex:\n\u001b[1;32m----> 5\u001b[0m     \u001b[38;5;28;01mraise\u001b[39;00m \u001b[38;5;167;01mValueError\u001b[39;00m(\u001b[38;5;124m'\u001b[39m\u001b[38;5;124mb must not be zero\u001b[39m\u001b[38;5;124m'\u001b[39m) \u001b[38;5;28;01mfrom\u001b[39;00m \u001b[38;5;21;01mex\u001b[39;00m\n",
      "\u001b[1;31mValueError\u001b[0m: b must not be zero"
     ]
    }
   ],
   "source": [
    "def divide(a,b):\n",
    "    try:\n",
    "        return a/b\n",
    "    except ZeroDivisionError as ex:\n",
    "        raise ValueError('b must not be zero') from ex\n",
    "        \n",
    "divide(10,0)"
   ]
  },
  {
   "cell_type": "markdown",
   "id": "1383819d-654b-4279-a265-5ee648f49482",
   "metadata": {},
   "source": [
    "ZeroDivisionErrorが主な要因であり、それに派生した例外がValueErrorであることを表している。\n",
    "\n",
    "ZeroDivisionError is the direct cause and the exception derived from it is ValueError."
   ]
  },
  {
   "cell_type": "markdown",
   "id": "bec0e1d6-e654-4204-b839-08ad52a41fe7",
   "metadata": {},
   "source": [
    "さらに、例外の原因が重要でない場合は、Noneを使用して原因を省略できます。\n",
    "\n",
    "Also, If the cause of exception is not important, we can omit the cause by useing from None Idiom. "
   ]
  },
  {
   "cell_type": "code",
   "execution_count": 21,
   "id": "0abd6263-5888-4662-9e27-da59d5350b2d",
   "metadata": {},
   "outputs": [
    {
     "ename": "ValueError",
     "evalue": "b must not be zero",
     "output_type": "error",
     "traceback": [
      "\u001b[1;31m---------------------------------------------------------------------------\u001b[0m",
      "\u001b[1;31mValueError\u001b[0m                                Traceback (most recent call last)",
      "Input \u001b[1;32mIn [21]\u001b[0m, in \u001b[0;36m<cell line: 7>\u001b[1;34m()\u001b[0m\n\u001b[0;32m      4\u001b[0m     \u001b[38;5;28;01mexcept\u001b[39;00m \u001b[38;5;167;01mZeroDivisionError\u001b[39;00m:\n\u001b[0;32m      5\u001b[0m         \u001b[38;5;28;01mraise\u001b[39;00m \u001b[38;5;167;01mValueError\u001b[39;00m(\u001b[38;5;124m'\u001b[39m\u001b[38;5;124mb must not be zero\u001b[39m\u001b[38;5;124m'\u001b[39m) \u001b[38;5;28;01mfrom\u001b[39;00m \u001b[38;5;28mNone\u001b[39m\n\u001b[1;32m----> 7\u001b[0m \u001b[43mdivide\u001b[49m\u001b[43m(\u001b[49m\u001b[38;5;241;43m10\u001b[39;49m\u001b[43m,\u001b[49m\u001b[38;5;241;43m0\u001b[39;49m\u001b[43m)\u001b[49m\n",
      "Input \u001b[1;32mIn [21]\u001b[0m, in \u001b[0;36mdivide\u001b[1;34m(a, b)\u001b[0m\n\u001b[0;32m      3\u001b[0m     \u001b[38;5;28;01mreturn\u001b[39;00m a\u001b[38;5;241m/\u001b[39mb\n\u001b[0;32m      4\u001b[0m \u001b[38;5;28;01mexcept\u001b[39;00m \u001b[38;5;167;01mZeroDivisionError\u001b[39;00m:\n\u001b[1;32m----> 5\u001b[0m     \u001b[38;5;28;01mraise\u001b[39;00m \u001b[38;5;167;01mValueError\u001b[39;00m(\u001b[38;5;124m'\u001b[39m\u001b[38;5;124mb must not be zero\u001b[39m\u001b[38;5;124m'\u001b[39m) \u001b[38;5;28;01mfrom\u001b[39;00m \u001b[38;5;28mNone\u001b[39m\n",
      "\u001b[1;31mValueError\u001b[0m: b must not be zero"
     ]
    }
   ],
   "source": [
    "def divide(a,b):\n",
    "    try:\n",
    "        return a/b\n",
    "    except ZeroDivisionError:\n",
    "        raise ValueError('b must not be zero') from None\n",
    "        \n",
    "divide(10,0)"
   ]
  },
  {
   "cell_type": "markdown",
   "id": "5789078c-3a11-405d-8af6-5cb815a8b2de",
   "metadata": {},
   "source": [
    "# 8.6. User-defined Exceptions\n",
    "プログラム上で新しい例外クラスを作成することで、独自の例外を指定することができます。\n",
    "\n",
    "You can specify your own exceptions by creating a new exception class programmatically.\n",
    "\n",
    "Exceptionクラスが親クラスになるようにして\n",
    "例外クラスの名称はErrorとなるように作成する必要がある。\n",
    "この例外オブジェクトをraiseすると次のようになります。\n",
    "\n",
    "The Exception class should be created to be the parent class and the name of the exception class should be ~Error.\n",
    "When this exception object is raised, it looks like this.\n"
   ]
  },
  {
   "cell_type": "code",
   "execution_count": 23,
   "id": "62079dc8-fb63-4985-a855-7f0c880cc72f",
   "metadata": {},
   "outputs": [
    {
     "ename": "MyError",
     "evalue": "数値がほしいのにNoneが来ました。",
     "output_type": "error",
     "traceback": [
      "\u001b[1;31m---------------------------------------------------------------------------\u001b[0m",
      "\u001b[1;31mMyError\u001b[0m                                   Traceback (most recent call last)",
      "Input \u001b[1;32mIn [23]\u001b[0m, in \u001b[0;36m<cell line: 4>\u001b[1;34m()\u001b[0m\n\u001b[0;32m      1\u001b[0m \u001b[38;5;28;01mclass\u001b[39;00m \u001b[38;5;21;01mMyError\u001b[39;00m(\u001b[38;5;167;01mException\u001b[39;00m):\n\u001b[0;32m      2\u001b[0m     \u001b[38;5;28;01mpass\u001b[39;00m\n\u001b[1;32m----> 4\u001b[0m \u001b[38;5;28;01mraise\u001b[39;00m MyError(\u001b[38;5;124mf\u001b[39m\u001b[38;5;124m'\u001b[39m\u001b[38;5;124m数値がほしいのにNoneが来ました。\u001b[39m\u001b[38;5;124m'\u001b[39m)\n",
      "\u001b[1;31mMyError\u001b[0m: 数値がほしいのにNoneが来ました。"
     ]
    }
   ],
   "source": [
    "class MyError(Exception):\n",
    "    pass\n",
    "\n",
    "raise MyError(f'数値がほしいのにNoneが来ました。')"
   ]
  },
  {
   "cell_type": "code",
   "execution_count": null,
   "id": "1cb9f420-87cf-4aa5-bce9-58ab7aebe230",
   "metadata": {},
   "outputs": [],
   "source": []
  }
 ],
 "metadata": {
  "kernelspec": {
   "display_name": "Python 3 (ipykernel)",
   "language": "python",
   "name": "python3"
  },
  "language_info": {
   "codemirror_mode": {
    "name": "ipython",
    "version": 3
   },
   "file_extension": ".py",
   "mimetype": "text/x-python",
   "name": "python",
   "nbconvert_exporter": "python",
   "pygments_lexer": "ipython3",
   "version": "3.10.4"
  }
 },
 "nbformat": 4,
 "nbformat_minor": 5
}

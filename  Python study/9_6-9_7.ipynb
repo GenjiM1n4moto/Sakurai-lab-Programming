{
 "cells": [
  {
   "cell_type": "markdown",
   "id": "a4857f0e-5ffc-4982-afb1-9c5b4a12f2d1",
   "metadata": {},
   "source": [
    "# 9.6. Private Variables\n",
    "\n",
    "**\"Private\" instance variables that cannot  be accessed except from inside an object don't exist in Python.**\n",
    "\n",
    "**However, there is a convention that is followed by most Python code: a name prefixed with an underscore (e.g. _spam) should be treated as a non-public part of the API (whether it is a function, a method or a data member).**\n"
   ]
  },
  {
   "cell_type": "markdown",
   "id": "8ed301d0-5aec-4244-a5e7-76c2ab642613",
   "metadata": {},
   "source": [
    "## class-private members\n",
    "\n",
    "**To avoid name clashes of names with names defined by subclasses, there is limited support for such a mechanism, called \"name mangling\". Any identifier of the form __spam (at least two leading underscores, at most one trailing underscore) is textually replaced with _classname__spam, where classname is the current class name with leading underscore(s) stripped**"
   ]
  },
  {
   "cell_type": "code",
   "execution_count": 1,
   "id": "d000cb23-6f9b-473b-affd-fcd62de9fc35",
   "metadata": {},
   "outputs": [],
   "source": [
    "# non-name mangling\n",
    "\n",
    "class Mapping:\n",
    "    def __init__(self, iterable):\n",
    "        self.items_list = []\n",
    "        self.update(iterable)\n",
    "    \n",
    "    def update(self, iterable):\n",
    "        for item in iterable:\n",
    "            self.items_list.append(item)"
   ]
  },
  {
   "cell_type": "code",
   "execution_count": 2,
   "id": "fbb46bdd-2afc-4f30-9fcf-e10f76d94712",
   "metadata": {},
   "outputs": [
    {
     "name": "stdout",
     "output_type": "stream",
     "text": [
      "After Init:  [1, 2, 3, 4]\n",
      "After Update: [1, 2, 3, 4, 5, 6, 7, 8]\n"
     ]
    }
   ],
   "source": [
    "a = [1, 2, 3, 4]\n",
    "m = Mapping(a)\n",
    "print(\"After Init: \", m.items_list)\n",
    "b = [5, 6, 7, 8]\n",
    "m.update(b)\n",
    "print(\"After Update:\", m.items_list)"
   ]
  },
  {
   "cell_type": "code",
   "execution_count": 3,
   "id": "0d97980f-d281-493a-9b56-72ec78b45be9",
   "metadata": {},
   "outputs": [],
   "source": [
    "# name mangling\n",
    "\n",
    "class Mapping:\n",
    "    def __init__(self, iterable):\n",
    "        self.items_list = []\n",
    "        self.__update(iterable)\n",
    "\n",
    "    def update(self, iterable):\n",
    "        for item in iterable:\n",
    "            self.items_list.append(item)\n",
    "\n",
    "    __update = update\n",
    "    \n",
    "class MappingSubclass(Mapping):\n",
    "\n",
    "    def update(self, keys, values):\n",
    "        for item in zip(keys, values):\n",
    "            self.items_list.append(item)\n",
    "    def a(self, keys):\n",
    "        self.__update(keys, items)\n",
    "        \n",
    "    __update = update  ## overwritten __update inside subclass"
   ]
  },
  {
   "cell_type": "code",
   "execution_count": 4,
   "id": "122ccc25-6ac8-45c9-8659-2b3e03d51988",
   "metadata": {},
   "outputs": [
    {
     "name": "stdout",
     "output_type": "stream",
     "text": [
      "After Init:  [1, 2, 3, 4]\n"
     ]
    },
    {
     "ename": "NameError",
     "evalue": "name 'items' is not defined",
     "output_type": "error",
     "traceback": [
      "\u001b[1;31m---------------------------------------------------------------------------\u001b[0m",
      "\u001b[1;31mNameError\u001b[0m                                 Traceback (most recent call last)",
      "Input \u001b[1;32mIn [4]\u001b[0m, in \u001b[0;36m<cell line: 5>\u001b[1;34m()\u001b[0m\n\u001b[0;32m      3\u001b[0m \u001b[38;5;28mprint\u001b[39m(\u001b[38;5;124m\"\u001b[39m\u001b[38;5;124mAfter Init: \u001b[39m\u001b[38;5;124m\"\u001b[39m, m\u001b[38;5;241m.\u001b[39mitems_list)\n\u001b[0;32m      4\u001b[0m b \u001b[38;5;241m=\u001b[39m [\u001b[38;5;241m5\u001b[39m, \u001b[38;5;241m6\u001b[39m, \u001b[38;5;241m7\u001b[39m, \u001b[38;5;241m8\u001b[39m]\n\u001b[1;32m----> 5\u001b[0m \u001b[43mm\u001b[49m\u001b[38;5;241;43m.\u001b[39;49m\u001b[43ma\u001b[49m\u001b[43m(\u001b[49m\u001b[43mb\u001b[49m\u001b[43m)\u001b[49m\n\u001b[0;32m      6\u001b[0m \u001b[38;5;28mprint\u001b[39m(\u001b[38;5;124m\"\u001b[39m\u001b[38;5;124mAfter Update:\u001b[39m\u001b[38;5;124m\"\u001b[39m, m\u001b[38;5;241m.\u001b[39mitems_list)\n",
      "Input \u001b[1;32mIn [3]\u001b[0m, in \u001b[0;36mMappingSubclass.a\u001b[1;34m(self, keys)\u001b[0m\n\u001b[0;32m     19\u001b[0m \u001b[38;5;28;01mdef\u001b[39;00m \u001b[38;5;21ma\u001b[39m(\u001b[38;5;28mself\u001b[39m, keys):\n\u001b[1;32m---> 20\u001b[0m     \u001b[38;5;28mself\u001b[39m\u001b[38;5;241m.\u001b[39m__update(keys, \u001b[43mitems\u001b[49m)\n",
      "\u001b[1;31mNameError\u001b[0m: name 'items' is not defined"
     ]
    }
   ],
   "source": [
    "a = [1, 2, 3, 4]\n",
    "m = MappingSubclass(a)\n",
    "print(\"After Init: \", m.items_list)\n",
    "b = [5, 6, 7, 8]\n",
    "m.a(b)\n",
    "print(\"After Update:\", m.items_list)"
   ]
  },
  {
   "cell_type": "markdown",
   "id": "b81e4775-9d69-4896-b5a8-56d0772c6c60",
   "metadata": {},
   "source": [
    "**In Mapping class   __update --> _Mapping__update**\n",
    "\n",
    "**In MappingSubclass __update --> _MappingSubclass__update**\n",
    "\n",
    "**So, the two __update are distinguishable.**"
   ]
  },
  {
   "cell_type": "markdown",
   "id": "199c8f65-a14e-43b6-a4b7-9b9f1fe20a33",
   "metadata": {},
   "source": [
    "# 9.7. Odds and Ends\n",
    "\n",
    "**Sometimes it is useful to have a data type similar to the Pascal “record” or C “struct”, bundling together a few named data items. An empty class definition will do nicely**"
   ]
  },
  {
   "cell_type": "code",
   "execution_count": 5,
   "id": "de1d732c-aa61-406a-93fa-eed936a85c27",
   "metadata": {},
   "outputs": [],
   "source": [
    "class Employee:\n",
    "    pass\n",
    "\n",
    "john = Employee()  \n",
    "\n",
    "john.name = 'John Doe'\n",
    "john.dept = 'computer lab'\n",
    "john.salary = 1000"
   ]
  },
  {
   "cell_type": "code",
   "execution_count": 6,
   "id": "1c2396ae-0d0c-46eb-9a52-b8acdd6a4df2",
   "metadata": {},
   "outputs": [
    {
     "name": "stdout",
     "output_type": "stream",
     "text": [
      "Name:John Doe, Dept:computer lab, Salary:1000\n"
     ]
    }
   ],
   "source": [
    "print(f\"Name:{john.name}, Dept:{john.dept}, Salary:{john.salary}\")"
   ]
  },
  {
   "cell_type": "code",
   "execution_count": null,
   "id": "1d2b893a-3049-420e-95a9-34c1d13ff69e",
   "metadata": {},
   "outputs": [],
   "source": []
  }
 ],
 "metadata": {
  "kernelspec": {
   "display_name": "Python 3 (ipykernel)",
   "language": "python",
   "name": "python3"
  },
  "language_info": {
   "codemirror_mode": {
    "name": "ipython",
    "version": 3
   },
   "file_extension": ".py",
   "mimetype": "text/x-python",
   "name": "python",
   "nbconvert_exporter": "python",
   "pygments_lexer": "ipython3",
   "version": "3.10.1"
  }
 },
 "nbformat": 4,
 "nbformat_minor": 5
}

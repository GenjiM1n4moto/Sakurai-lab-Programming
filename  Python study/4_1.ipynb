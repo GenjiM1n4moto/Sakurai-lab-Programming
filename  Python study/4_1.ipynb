{
 "cells": [
  {
   "cell_type": "markdown",
   "id": "e8aad181-840e-4cab-b67f-a91bc90301c2",
   "metadata": {},
   "source": [
    "# 4.1 if Statements\n",
    "\n",
    "if Statements is useful when the process changes depending on conditions.\n",
    "For example, show a case if you want to know hoge is a multiples of 15 or not."
   ]
  },
  {
   "cell_type": "code",
   "execution_count": 1,
   "id": "45e4d69b-107e-4f62-9b44-f6c52ab89cae",
   "metadata": {},
   "outputs": [
    {
     "name": "stdout",
     "output_type": "stream",
     "text": [
      "hoge is a multiples of 15\n"
     ]
    }
   ],
   "source": [
    "hoge = 30\n",
    "\n",
    "# Is hoge a multiples of 15??\n",
    "if hoge % 15 == 0:\n",
    "    print(\"hoge is a multiples of 15\")\n",
    "else:\n",
    "    print(\"hoge is not a multiples of 15\")"
   ]
  },
  {
   "cell_type": "code",
   "execution_count": 2,
   "id": "c294f239-840d-4d90-a8a9-d218fb23c953",
   "metadata": {},
   "outputs": [
    {
     "name": "stdout",
     "output_type": "stream",
     "text": [
      "hoge is not a multiples of 15\n"
     ]
    }
   ],
   "source": [
    "hoge = 130\n",
    "\n",
    "# Is hoge a multiples of 15??\n",
    "if hoge % 15 == 0:\n",
    "    print(\"hoge is a multiples of 15\")\n",
    "else:\n",
    "    print(\"hoge is not a multiples of 15\")"
   ]
  },
  {
   "cell_type": "markdown",
   "id": "d29da982-05e9-40f7-88fe-90ce0fc738fb",
   "metadata": {},
   "source": [
    "And, if hoge is not a multiples of 15, you can also know whether hoge is a multiple of 3 or 5 using \"elif\"."
   ]
  },
  {
   "cell_type": "code",
   "execution_count": 3,
   "id": "35499a80-e53d-4db8-b845-8599acdadfd1",
   "metadata": {},
   "outputs": [
    {
     "name": "stdout",
     "output_type": "stream",
     "text": [
      "hoge is a multiples of 3\n"
     ]
    }
   ],
   "source": [
    "hoge = 6\n",
    "\n",
    "if hoge % 15 == 0:\n",
    "    print(\"hoge is a multiples of 15\")\n",
    "elif hoge % 5 == 0:\n",
    "    print(\"hoge is a multiples of 5\")\n",
    "elif hoge % 3 == 0:\n",
    "    print(\"hoge is a multiples of 3\")\n",
    "else:\n",
    "    print(\"hoge is not a multiples of 15, 5, or 3\")"
   ]
  },
  {
   "cell_type": "markdown",
   "id": "a1651f47-c0be-441a-a9d6-18425ba3078a",
   "metadata": {},
   "source": [
    "Generally, \"if Statement\" needs condition that return boolean value such as  \"True\" or \"False\". However, In python, not only can integers and string be used as \"True\", but also 0 can be used as \"False\". "
   ]
  },
  {
   "cell_type": "code",
   "execution_count": 4,
   "id": "014aa9dd-d284-4b7c-a232-60d4432a058f",
   "metadata": {},
   "outputs": [
    {
     "name": "stdout",
     "output_type": "stream",
     "text": [
      "true\n"
     ]
    }
   ],
   "source": [
    "if False:\n",
    "    print(\"false\")\n",
    "elif True:\n",
    "    print(\"true\")"
   ]
  },
  {
   "cell_type": "code",
   "execution_count": 5,
   "id": "d43ae793-4f7b-43be-9714-245e4bcad511",
   "metadata": {},
   "outputs": [
    {
     "name": "stdout",
     "output_type": "stream",
     "text": [
      "true??\n"
     ]
    }
   ],
   "source": [
    "if 0:\n",
    "    print(\"false??\")\n",
    "elif 1:\n",
    "    print(\"true??\")"
   ]
  },
  {
   "cell_type": "markdown",
   "id": "57dbe45d-74c1-4c03-83ff-b22352e4cce9",
   "metadata": {},
   "source": [
    "Be careful, string \"0\" is not converted \"False\". They only check string has character or not. so we can use \"\" as \"False\"."
   ]
  },
  {
   "cell_type": "code",
   "execution_count": 6,
   "id": "b95ccfc1-7db2-4fa7-a89d-c559011ce826",
   "metadata": {},
   "outputs": [
    {
     "name": "stdout",
     "output_type": "stream",
     "text": [
      "false??\n"
     ]
    }
   ],
   "source": [
    "if \"0\":\n",
    "    print(\"false??\")\n",
    "elif \"1\":\n",
    "    print(\"true??\")"
   ]
  },
  {
   "cell_type": "code",
   "execution_count": 7,
   "id": "c909e601-4e86-4445-9327-e4372ee3ae08",
   "metadata": {},
   "outputs": [
    {
     "name": "stdout",
     "output_type": "stream",
     "text": [
      "true??\n"
     ]
    }
   ],
   "source": [
    "if \"\":\n",
    "    print(\"false??\")\n",
    "elif \"aaa\":\n",
    "    print(\"true??\")"
   ]
  },
  {
   "cell_type": "markdown",
   "id": "c81e2484-0886-4e3c-85e0-80d220bcebb3",
   "metadata": {},
   "source": [
    "If you want to check a case condition is False, let's use \"not\"."
   ]
  },
  {
   "cell_type": "code",
   "execution_count": 8,
   "id": "2685bca5-bba0-4f2b-937b-0534c4485ad2",
   "metadata": {},
   "outputs": [
    {
     "name": "stdout",
     "output_type": "stream",
     "text": [
      "false\n"
     ]
    }
   ],
   "source": [
    "if not False:\n",
    "    print(\"false\")"
   ]
  },
  {
   "cell_type": "markdown",
   "id": "f78bb3a1-f60c-41e4-950f-42d2cc14b1c6",
   "metadata": {},
   "source": [
    "you can also use 0 and \"\"."
   ]
  },
  {
   "cell_type": "code",
   "execution_count": 9,
   "id": "30edae30-5c94-4e29-aa6b-20d50b9f1016",
   "metadata": {},
   "outputs": [
    {
     "name": "stdout",
     "output_type": "stream",
     "text": [
      "false\n"
     ]
    }
   ],
   "source": [
    "if not 0:\n",
    "    print(\"false\")"
   ]
  },
  {
   "cell_type": "code",
   "execution_count": 10,
   "id": "fb139c77-4f49-4067-a770-643c327c3929",
   "metadata": {},
   "outputs": [
    {
     "name": "stdout",
     "output_type": "stream",
     "text": [
      "false\n"
     ]
    }
   ],
   "source": [
    "if not \"\":\n",
    "    print(\"false\")"
   ]
  },
  {
   "cell_type": "markdown",
   "id": "27f55463-134f-470f-81f1-af8584186dd3",
   "metadata": {},
   "source": [
    "I don't know how many objects can use as boolean, but at least these types can use as boolean."
   ]
  },
  {
   "cell_type": "code",
   "execution_count": 11,
   "id": "19c5fe06-d305-4c6c-ae63-32e2a4780a51",
   "metadata": {},
   "outputs": [
    {
     "name": "stdout",
     "output_type": "stream",
     "text": [
      "false\n",
      "true\n"
     ]
    }
   ],
   "source": [
    "# List\n",
    "if not []:\n",
    "    print(\"false\")\n",
    "if [1, 2, 3]:\n",
    "    print(\"true\")"
   ]
  },
  {
   "cell_type": "code",
   "execution_count": 12,
   "id": "b494cc42-6985-456b-a478-73a7420712d8",
   "metadata": {},
   "outputs": [
    {
     "name": "stdout",
     "output_type": "stream",
     "text": [
      "false\n",
      "true\n"
     ]
    }
   ],
   "source": [
    "# Tuple\n",
    "if not ():\n",
    "    print(\"false\")\n",
    "if (1, 2, 3):\n",
    "    print(\"true\")"
   ]
  },
  {
   "cell_type": "code",
   "execution_count": 13,
   "id": "5852c757-2fda-4c77-aa8b-25ecf50ba74b",
   "metadata": {},
   "outputs": [
    {
     "name": "stdout",
     "output_type": "stream",
     "text": [
      "false\n",
      "true\n",
      "true\n"
     ]
    }
   ],
   "source": [
    "# Set and Dict\n",
    "if not {}:\n",
    "    print(\"false\")\n",
    "if {1, 2, 3}:\n",
    "    print(\"true\")\n",
    "if {1:1, 2:2, 3:3}:\n",
    "    print(\"true\")"
   ]
  },
  {
   "cell_type": "markdown",
   "id": "c2ad290e-ce8a-45bd-9923-0f0def016f47",
   "metadata": {},
   "source": [
    "# 4.2 for Statements\n",
    "Python’s for statement iterates over the items of any sequence (a list or a string), in the order that they appear in the sequence. "
   ]
  },
  {
   "cell_type": "code",
   "execution_count": 14,
   "id": "3f5c4fac-b5da-4d17-a7a9-c585ba83e536",
   "metadata": {},
   "outputs": [
    {
     "name": "stdout",
     "output_type": "stream",
     "text": [
      "apple\n",
      "banana\n",
      "pineapple\n"
     ]
    }
   ],
   "source": [
    "fruits = [\"apple\", \"banana\", \"pineapple\"]\n",
    "\n",
    "for fruit in fruits:\n",
    "    print(fruit)"
   ]
  },
  {
   "cell_type": "code",
   "execution_count": 15,
   "id": "4e460fbe-c097-4876-8a96-600ae2ef62c4",
   "metadata": {},
   "outputs": [
    {
     "name": "stdout",
     "output_type": "stream",
     "text": [
      "l\n",
      "o\n",
      "n\n",
      "g\n",
      "s\n",
      "e\n",
      "n\n",
      "t\n",
      "e\n",
      "n\n",
      "s\n",
      "e\n"
     ]
    }
   ],
   "source": [
    "sentense = \"longsentense\"\n",
    "\n",
    "for s in sentense:\n",
    "    print(s)"
   ]
  },
  {
   "cell_type": "markdown",
   "id": "efd4f79b-1d5b-461e-be30-95b904c81833",
   "metadata": {},
   "source": [
    "Tuple and Set also can be used in the same way, but Dictionary can't. Because it has two items, key and value."
   ]
  },
  {
   "cell_type": "code",
   "execution_count": 16,
   "id": "4fc40c76-bf93-42af-9092-a7ae10ef5b88",
   "metadata": {},
   "outputs": [
    {
     "name": "stdout",
     "output_type": "stream",
     "text": [
      "apple\n",
      "banana\n",
      "pineapple\n"
     ]
    }
   ],
   "source": [
    "fruits = (\"apple\", \"banana\", \"pineapple\")\n",
    "\n",
    "for fruit in fruits:\n",
    "    print(fruit)"
   ]
  },
  {
   "cell_type": "code",
   "execution_count": 17,
   "id": "fd567c17-af78-4d8c-8db3-68896b84fe82",
   "metadata": {},
   "outputs": [
    {
     "name": "stdout",
     "output_type": "stream",
     "text": [
      "pineapple\n",
      "apple\n",
      "banana\n"
     ]
    }
   ],
   "source": [
    "fruits = {\"apple\", \"banana\", \"pineapple\"}\n",
    "\n",
    "for fruit in fruits:\n",
    "    print(fruit)"
   ]
  },
  {
   "cell_type": "code",
   "execution_count": 18,
   "id": "2d3f80cb-0c4f-44c6-83e9-4e4d1651adc2",
   "metadata": {},
   "outputs": [
    {
     "name": "stdout",
     "output_type": "stream",
     "text": [
      "0\n",
      "1\n",
      "2\n"
     ]
    }
   ],
   "source": [
    "fruits = {\"0\":\"apple\", \"1\":\"banana\", \"2\":\"pineapple\"}\n",
    "\n",
    "# only keys printed \n",
    "for fruit in fruits:\n",
    "    print(fruit)"
   ]
  },
  {
   "cell_type": "markdown",
   "id": "22e92a02-247b-4947-8acb-656a29421323",
   "metadata": {},
   "source": [
    "using items methods, you can take both key and value! But don't forget set two variables."
   ]
  },
  {
   "cell_type": "code",
   "execution_count": 19,
   "id": "42e0d5b2-76b5-40e4-8b10-c1a6802a4625",
   "metadata": {},
   "outputs": [
    {
     "name": "stdout",
     "output_type": "stream",
     "text": [
      "0 apple\n",
      "1 banana\n",
      "2 pineapple\n"
     ]
    }
   ],
   "source": [
    "fruits = {\"0\":\"apple\", \"1\":\"banana\", \"2\":\"pineapple\"}\n",
    "\n",
    "for k, v in fruits.items():\n",
    "    print(k, v)"
   ]
  },
  {
   "cell_type": "markdown",
   "id": "d1d82dee-2995-4480-bda5-f2abc7a3772c",
   "metadata": {},
   "source": [
    "In addition, if you need to get only value, use values method."
   ]
  },
  {
   "cell_type": "code",
   "execution_count": 20,
   "id": "e420d5cb-ac1d-47e5-8e57-584b8fbb3306",
   "metadata": {},
   "outputs": [
    {
     "name": "stdout",
     "output_type": "stream",
     "text": [
      "apple\n",
      "banana\n",
      "pineapple\n"
     ]
    }
   ],
   "source": [
    "fruits = {\"0\":\"apple\", \"1\":\"banana\", \"2\":\"pineapple\"}\n",
    "\n",
    "for v in fruits.values():\n",
    "    print(v)"
   ]
  },
  {
   "cell_type": "markdown",
   "id": "ef2bddba-2a71-4926-8dac-fccb9d688dc4",
   "metadata": {},
   "source": [
    "## some useful two functions and a method\n",
    "\n",
    "\n",
    "\n",
    "\n"
   ]
  },
  {
   "cell_type": "markdown",
   "id": "376facf7-d946-4166-820c-fd03ff72ec94",
   "metadata": {},
   "source": [
    "### enumerate\n",
    "you can get index of list or tuple etc..."
   ]
  },
  {
   "cell_type": "code",
   "execution_count": 21,
   "id": "e994bfc6-e086-452c-9f79-d6363e55d899",
   "metadata": {},
   "outputs": [
    {
     "name": "stdout",
     "output_type": "stream",
     "text": [
      "0 apple\n",
      "1 banana\n",
      "2 pineapple\n"
     ]
    }
   ],
   "source": [
    "fruits = [\"apple\", \"banana\", \"pineapple\"]\n",
    "\n",
    "for i, fruit in enumerate(fruits):\n",
    "    print(i, fruit)"
   ]
  },
  {
   "cell_type": "markdown",
   "id": "84783622-2fc9-40a0-af43-293decf95c76",
   "metadata": {},
   "source": [
    "### reversed\n",
    "\n",
    "Literally, the list is reversed. Also there is a choice that use reverse method, but be careful reverse method returns NoneType."
   ]
  },
  {
   "cell_type": "code",
   "execution_count": 22,
   "id": "83ba338b-1b7a-4fbb-8748-0809a3407beb",
   "metadata": {},
   "outputs": [
    {
     "name": "stdout",
     "output_type": "stream",
     "text": [
      "pineapple\n",
      "banana\n",
      "apple\n"
     ]
    }
   ],
   "source": [
    "fruits = [\"apple\", \"banana\", \"pineapple\"]\n",
    "\n",
    "for fruit in reversed(fruits):\n",
    "    print(fruit)"
   ]
  },
  {
   "cell_type": "code",
   "execution_count": 23,
   "id": "50b58f53-4942-4b86-b76e-aaa3d49cdca6",
   "metadata": {},
   "outputs": [
    {
     "ename": "TypeError",
     "evalue": "'NoneType' object is not iterable",
     "output_type": "error",
     "traceback": [
      "\u001b[1;31m---------------------------------------------------------------------------\u001b[0m",
      "\u001b[1;31mTypeError\u001b[0m                                 Traceback (most recent call last)",
      "Input \u001b[1;32mIn [23]\u001b[0m, in \u001b[0;36m<cell line: 3>\u001b[1;34m()\u001b[0m\n\u001b[0;32m      1\u001b[0m fruits \u001b[38;5;241m=\u001b[39m [\u001b[38;5;124m\"\u001b[39m\u001b[38;5;124mapple\u001b[39m\u001b[38;5;124m\"\u001b[39m, \u001b[38;5;124m\"\u001b[39m\u001b[38;5;124mbanana\u001b[39m\u001b[38;5;124m\"\u001b[39m, \u001b[38;5;124m\"\u001b[39m\u001b[38;5;124mpineapple\u001b[39m\u001b[38;5;124m\"\u001b[39m]\n\u001b[1;32m----> 3\u001b[0m \u001b[38;5;28;01mfor\u001b[39;00m fruit \u001b[38;5;129;01min\u001b[39;00m fruits\u001b[38;5;241m.\u001b[39mreverse():\n\u001b[0;32m      4\u001b[0m     \u001b[38;5;28mprint\u001b[39m(fruit)\n",
      "\u001b[1;31mTypeError\u001b[0m: 'NoneType' object is not iterable"
     ]
    }
   ],
   "source": [
    "fruits = [\"apple\", \"banana\", \"pineapple\"]\n",
    "\n",
    "for fruit in fruits.reverse():\n",
    "    print(fruit)"
   ]
  },
  {
   "cell_type": "code",
   "execution_count": 24,
   "id": "4abcfcba-bd62-4a1a-83e6-6b163cdc080a",
   "metadata": {},
   "outputs": [
    {
     "name": "stdout",
     "output_type": "stream",
     "text": [
      "pineapple\n",
      "banana\n",
      "apple\n"
     ]
    }
   ],
   "source": [
    "fruits = [\"apple\", \"banana\", \"pineapple\"]\n",
    "\n",
    "fruits.reverse()\n",
    "\n",
    "for fruit in fruits:\n",
    "    print(fruit)"
   ]
  },
  {
   "cell_type": "markdown",
   "id": "366e45b8-89b5-4db6-a7e3-0e3114be8460",
   "metadata": {},
   "source": [
    "Also string can reversed function, but can't use reverse method, because it is the method of list type."
   ]
  },
  {
   "cell_type": "code",
   "execution_count": 25,
   "id": "9dd3cff1-e791-4fdb-ba29-944d4a0c39e7",
   "metadata": {},
   "outputs": [
    {
     "name": "stdout",
     "output_type": "stream",
     "text": [
      "e\n",
      "s\n",
      "n\n",
      "e\n",
      "t\n",
      "n\n",
      "e\n",
      "s\n",
      "g\n",
      "n\n",
      "o\n",
      "l\n"
     ]
    }
   ],
   "source": [
    "sentense = \"longsentense\"\n",
    "\n",
    "for s in reversed(sentense):\n",
    "    print(s)"
   ]
  },
  {
   "cell_type": "code",
   "execution_count": 26,
   "id": "ae3660f5-ee45-46fd-bd30-5db63d6ba911",
   "metadata": {},
   "outputs": [
    {
     "ename": "AttributeError",
     "evalue": "'str' object has no attribute 'reverse'",
     "output_type": "error",
     "traceback": [
      "\u001b[1;31m---------------------------------------------------------------------------\u001b[0m",
      "\u001b[1;31mAttributeError\u001b[0m                            Traceback (most recent call last)",
      "Input \u001b[1;32mIn [26]\u001b[0m, in \u001b[0;36m<cell line: 2>\u001b[1;34m()\u001b[0m\n\u001b[0;32m      1\u001b[0m sentense \u001b[38;5;241m=\u001b[39m \u001b[38;5;124m\"\u001b[39m\u001b[38;5;124mlongsentense\u001b[39m\u001b[38;5;124m\"\u001b[39m\n\u001b[1;32m----> 2\u001b[0m \u001b[43msentense\u001b[49m\u001b[38;5;241;43m.\u001b[39;49m\u001b[43mreverse\u001b[49m()\n\u001b[0;32m      3\u001b[0m \u001b[38;5;28;01mfor\u001b[39;00m s \u001b[38;5;129;01min\u001b[39;00m sentense:\n\u001b[0;32m      4\u001b[0m     \u001b[38;5;28mprint\u001b[39m(s)\n",
      "\u001b[1;31mAttributeError\u001b[0m: 'str' object has no attribute 'reverse'"
     ]
    }
   ],
   "source": [
    "sentense = \"longsentense\"\n",
    "sentense.reverse()\n",
    "for s in sentense:\n",
    "    print(s)"
   ]
  },
  {
   "cell_type": "code",
   "execution_count": null,
   "id": "e67b0038-8a60-419d-a6fa-efdcf9c5cd41",
   "metadata": {},
   "outputs": [],
   "source": []
  }
 ],
 "metadata": {
  "kernelspec": {
   "display_name": "Python 3 (ipykernel)",
   "language": "python",
   "name": "python3"
  },
  "language_info": {
   "codemirror_mode": {
    "name": "ipython",
    "version": 3
   },
   "file_extension": ".py",
   "mimetype": "text/x-python",
   "name": "python",
   "nbconvert_exporter": "python",
   "pygments_lexer": "ipython3",
   "version": "3.10.1"
  }
 },
 "nbformat": 4,
 "nbformat_minor": 5
}

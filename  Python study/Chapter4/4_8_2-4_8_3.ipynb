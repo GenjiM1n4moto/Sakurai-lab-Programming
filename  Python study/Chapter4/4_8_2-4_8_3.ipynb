{
 "cells": [
  {
   "cell_type": "markdown",
   "metadata": {},
   "source": [
    "## 4.8.2 Keysword Arguments\n",
    "\n",
    "Think about _Default Argument Values_. For function\n",
    "\n",
    "def function(a):\n",
    "    \n",
    "    print(a)\n",
    "\n",
    "function(\"123\"), the console will print 123.\n",
    "\n",
    "But Sometimes, things are much more difficult, we have two or more parameters in one function"
   ]
  },
  {
   "cell_type": "code",
   "execution_count": 2,
   "metadata": {},
   "outputs": [
    {
     "name": "stdout",
     "output_type": "stream",
     "text": [
      "1 3 4 5 6 2\n",
      "1 2 3 4 5 6\n"
     ]
    }
   ],
   "source": [
    "def myfunc(a, b, c, d, e, f):\n",
    "    print(a, b, c, d, e, f)\n",
    "\n",
    "myfunc(1, 3, 4, 5, 6, 2)\n",
    "myfunc(1, 2, 3, 4, 5, 6)"
   ]
  },
  {
   "cell_type": "markdown",
   "metadata": {},
   "source": [
    "The order of parameters will directly influence the output of the function, which we should avoid.\n"
   ]
  },
  {
   "cell_type": "code",
   "execution_count": 13,
   "metadata": {},
   "outputs": [
    {
     "name": "stdout",
     "output_type": "stream",
     "text": [
      "The person is PjHe, it is 18 years old!\n",
      "The person is PjHe, it is 18 years old!\n"
     ]
    }
   ],
   "source": [
    "def mycase(name, age=\"18\"):\n",
    "    print(\"The person is {0}, it is {1} years old!\".format(name, age))\n",
    "\n",
    "mycase(\"PjHe\")\n",
    "mycase(name=\"PjHe\")"
   ]
  },
  {
   "cell_type": "markdown",
   "metadata": {},
   "source": [
    "The default way is just matching the order of parameters like the default argument.\n",
    "\n",
    "But, we can also assign the value of the parameter."
   ]
  },
  {
   "cell_type": "code",
   "execution_count": 3,
   "metadata": {},
   "outputs": [
    {
     "ename": "SyntaxError",
     "evalue": "non-default argument follows default argument (<ipython-input-3-7bae8610a83e>, line 1)",
     "output_type": "error",
     "traceback": [
      "\u001b[0;36m  File \u001b[0;32m\"<ipython-input-3-7bae8610a83e>\"\u001b[0;36m, line \u001b[0;32m1\u001b[0m\n\u001b[0;31m    def mySimpleCase(name, age=\"18\", favorite):\u001b[0m\n\u001b[0m                     ^\u001b[0m\n\u001b[0;31mSyntaxError\u001b[0m\u001b[0;31m:\u001b[0m non-default argument follows default argument\n"
     ]
    }
   ],
   "source": [
    "def mySimpleCase(name, age=\"18\", favorite):\n",
    "    pass"
   ]
  },
  {
   "cell_type": "markdown",
   "metadata": {},
   "source": [
    "Notice: non-default argument can not follow default argument, when you develop something, you should design a function that computer can understand properly.\n",
    "\n",
    "Think about it, you still want to use the format of function like that because you think it is cool.\n",
    "\n",
    "mySimpleCase(\"PjHe\", \"ball\") will confuse computer, it can not recognize the age is \"ball\", or favorite is \"ball\", so we should avoid writing functions like that."
   ]
  },
  {
   "cell_type": "code",
   "execution_count": 5,
   "metadata": {},
   "outputs": [
    {
     "name": "stdout",
     "output_type": "stream",
     "text": [
      "The person is PjHe, it is 18 years old! And it likes programming!\n",
      "The person is PjHe, it is 18 years old! And it likes programming!\n",
      "The person is PjHe, it is 20 years old! And it likes programming!\n",
      "The person is PjHe, it is 18 years old! And it likes Studying!\n",
      "The person is PjHe, it is 22 years old! And it likes Gaming!\n"
     ]
    }
   ],
   "source": [
    "def myRealSimpleCase(name, age=18, favorite=\"programming\"):\n",
    "    print(\"The person is {0}, it is {1} years old! And it likes {2}!\".format(name, age, favorite))\n",
    "\n",
    "myRealSimpleCase(\"PjHe\")\n",
    "myRealSimpleCase(name=\"PjHe\")\n",
    "myRealSimpleCase(name=\"PjHe\", age=20)\n",
    "myRealSimpleCase(name=\"PjHe\", favorite=\"Studying\")\n",
    "myRealSimpleCase(name=\"PjHe\", age=22, favorite=\"Gaming\")"
   ]
  },
  {
   "cell_type": "markdown",
   "metadata": {},
   "source": [
    "Some Wrong cases"
   ]
  },
  {
   "cell_type": "code",
   "execution_count": 7,
   "metadata": {},
   "outputs": [
    {
     "ename": "SyntaxError",
     "evalue": "positional argument follows keyword argument (<ipython-input-7-1a6acc464854>, line 1)",
     "output_type": "error",
     "traceback": [
      "\u001b[0;36m  File \u001b[0;32m\"<ipython-input-7-1a6acc464854>\"\u001b[0;36m, line \u001b[0;32m1\u001b[0m\n\u001b[0;31m    myRealSimpleCase(name=\"Mina\", 18)\u001b[0m\n\u001b[0m                                  ^\u001b[0m\n\u001b[0;31mSyntaxError\u001b[0m\u001b[0;31m:\u001b[0m positional argument follows keyword argument\n"
     ]
    }
   ],
   "source": [
    "myRealSimpleCase(name=\"Mina\", 18)"
   ]
  },
  {
   "cell_type": "code",
   "execution_count": 27,
   "metadata": {},
   "outputs": [
    {
     "ename": "SyntaxError",
     "evalue": "positional argument follows keyword argument (<ipython-input-27-6f23ce8811d3>, line 1)",
     "output_type": "error",
     "traceback": [
      "\u001b[0;36m  File \u001b[0;32m\"<ipython-input-27-6f23ce8811d3>\"\u001b[0;36m, line \u001b[0;32m1\u001b[0m\n\u001b[0;31m    myRealSimpleCase(name=\"Mina\", \"Gaming\")\u001b[0m\n\u001b[0m                                  ^\u001b[0m\n\u001b[0;31mSyntaxError\u001b[0m\u001b[0;31m:\u001b[0m positional argument follows keyword argument\n"
     ]
    }
   ],
   "source": [
    "myRealSimpleCase(name=\"Mina\", \"Gaming\")"
   ]
  },
  {
   "cell_type": "code",
   "execution_count": 28,
   "metadata": {},
   "outputs": [
    {
     "ename": "SyntaxError",
     "evalue": "positional argument follows keyword argument (<ipython-input-28-6a93cf90bfe0>, line 1)",
     "output_type": "error",
     "traceback": [
      "\u001b[0;36m  File \u001b[0;32m\"<ipython-input-28-6a93cf90bfe0>\"\u001b[0;36m, line \u001b[0;32m1\u001b[0m\n\u001b[0;31m    myRealSimpleCase(name=\"Mina\", 18, \"Gaming\")\u001b[0m\n\u001b[0m                                  ^\u001b[0m\n\u001b[0;31mSyntaxError\u001b[0m\u001b[0;31m:\u001b[0m positional argument follows keyword argument\n"
     ]
    }
   ],
   "source": [
    "myRealSimpleCase(name=\"Mina\", 18, \"Gaming\")"
   ]
  },
  {
   "cell_type": "code",
   "execution_count": 30,
   "metadata": {},
   "outputs": [
    {
     "ename": "TypeError",
     "evalue": "myRealSimpleCase() got multiple values for argument 'name'",
     "output_type": "error",
     "traceback": [
      "\u001b[0;31m---------------------------------------------------------------------------\u001b[0m",
      "\u001b[0;31mTypeError\u001b[0m                                 Traceback (most recent call last)",
      "\u001b[0;32m<ipython-input-30-2ded278e8e99>\u001b[0m in \u001b[0;36m<module>\u001b[0;34m\u001b[0m\n\u001b[0;32m----> 1\u001b[0;31m \u001b[0mmyRealSimpleCase\u001b[0m\u001b[0;34m(\u001b[0m\u001b[0;34m\"PjHe\"\u001b[0m\u001b[0;34m,\u001b[0m \u001b[0mname\u001b[0m\u001b[0;34m=\u001b[0m\u001b[0;34m\"pjhe\"\u001b[0m\u001b[0;34m)\u001b[0m\u001b[0;34m\u001b[0m\u001b[0;34m\u001b[0m\u001b[0m\n\u001b[0m",
      "\u001b[0;31mTypeError\u001b[0m: myRealSimpleCase() got multiple values for argument 'name'"
     ]
    }
   ],
   "source": [
    "myRealSimpleCase(\"PjHe\", name=\"pjhe\")"
   ]
  },
  {
   "cell_type": "markdown",
   "metadata": {},
   "source": [
    "You may consider, why there are so many erorrs here. For Keyword Argument, one thing you should remember,\n",
    "\n",
    " __Make it clear for computer__!\n",
    "\n",
    "My advice is: Even you may not use default argument, it is better for you to use Keyword Argument if the number of parameters of function is more than three."
   ]
  },
  {
   "cell_type": "markdown",
   "metadata": {},
   "source": [
    "## *args, and **keywords\n",
    "\n",
    "If you have used many command python tools (or other command tools), you may know __args__ and __kwargs__\n",
    "\n",
    "Basically, the formation should be like this:\n",
    "\n",
    "def function(*args, **kwargs):\n",
    "    pass\n",
    "\n",
    "What does that mean ? The definition of *args is, a tuple containing the positional arguments beyond the formal parameter list. And **kwargs is a dictionary containing all keyword arguments except for those corresponding to a formal parameter.\n",
    "\n",
    "Let me use the example in Official document."
   ]
  },
  {
   "cell_type": "code",
   "execution_count": 8,
   "metadata": {
    "scrolled": true
   },
   "outputs": [
    {
     "name": "stdout",
     "output_type": "stream",
     "text": [
      "-- Do you have any Limburger ?\n",
      "-- I'm sorry, we're all out of Limburger\n",
      "It's very runny, sir.\n",
      "It's really very, VERY runny, sir.\n",
      "----------------------------------------\n",
      "shopkeeper : Michael Palin\n",
      "client : John Cleese\n",
      "sketch : Cheese Shop Sketch\n"
     ]
    }
   ],
   "source": [
    "def cheeseshop(kind, *arguments, **keywords):\n",
    "    print(\"-- Do you have any\", kind, \"?\")\n",
    "    print(\"-- I'm sorry, we're all out of\", kind)\n",
    "    for arg in arguments:\n",
    "        print(arg)\n",
    "    print(\"-\" * 40)\n",
    "    for kw in keywords:\n",
    "        print(kw, \":\", keywords[kw])\n",
    "\n",
    "cheeseshop(\"Limburger\", \"It's very runny, sir.\",\n",
    "           \"It's really very, VERY runny, sir.\",\n",
    "           shopkeeper=\"Michael Palin\",\n",
    "           client=\"John Cleese\",\n",
    "           sketch=\"Cheese Shop Sketch\")"
   ]
  },
  {
   "cell_type": "code",
   "execution_count": null,
   "metadata": {},
   "outputs": [],
   "source": []
  },
  {
   "cell_type": "markdown",
   "metadata": {},
   "source": [
    "There parameters can be seen as a tuple(kind, *arguments, **keywords),\n",
    "\n",
    "We know we should match __kind__ firstly, so, we find the first parameter and assign the value to __kind__. And then, there is no single position arguments, so rest of position arguments is *arguments, and then, rest of keywords arguments is **keywords \n",
    "\n",
    "That is simple, right, so, here, we can write a new function to fully use the API"
   ]
  },
  {
   "cell_type": "code",
   "execution_count": 37,
   "metadata": {},
   "outputs": [
    {
     "name": "stdout",
     "output_type": "stream",
     "text": [
      "The person is HE PENGJU\n",
      "Age 22\n",
      "Like Gaming\n",
      "Not homo\n",
      "The sex of the person is Male\n",
      "favorite:Programming\n",
      "programmingLanguage:Python\n"
     ]
    }
   ],
   "source": [
    "def myMultipleCase(name, *args, sex=\"Male\", **kwargs):\n",
    "    print(\"The person is {}\".format(name))\n",
    "    for arg in args:\n",
    "        print(arg)\n",
    "    print(\"The sex of the person is {}\".format(sex))\n",
    "    for kw in kwargs:\n",
    "        print(\"{}:{}\".format(kw, kwargs[kw]))\n",
    "\n",
    "myMultipleCase(\"HE PENGJU\", \"Age 22\", \"Like Gaming\", \"Not homo\",\n",
    "                sex=\"Male\", favorite=\"Programming\", programmingLanguage=\"Python\")"
   ]
  },
  {
   "cell_type": "markdown",
   "metadata": {},
   "source": [
    "## 4.8.3 Special parameters\n",
    "\n",
    "![RUNOOB image](./pictures/4.8.3.png)"
   ]
  },
  {
   "cell_type": "code",
   "execution_count": 17,
   "metadata": {},
   "outputs": [
    {
     "name": "stdout",
     "output_type": "stream",
     "text": [
      "1\n",
      "2\n",
      "keywords1 : 3\n",
      "keywords2 : 4\n",
      "1\n",
      "2\n",
      "keywords1 : 3\n",
      "keywords2 : 4\n",
      "1\n",
      "2\n",
      "keywords1 : 3\n",
      "keywords2 : 4\n"
     ]
    }
   ],
   "source": [
    "def myfunc(position_para1, /, position_para2, keywords_para1=\"keywords1\", *, keywords_para2=\"keywords2\"):\n",
    "    print(position_para1)\n",
    "    print(position_para2)\n",
    "    print(\"keywords1 : {}\".format(keywords_para1))\n",
    "    print(\"keywords2 : {}\".format(keywords_para2))\n",
    "\n",
    "myfunc(\"1\", \"2\", keywords_para1=\"3\", keywords_para2=\"4\")\n",
    "myfunc(\"1\", \"2\", \"3\", keywords_para2=\"4\")\n",
    "myfunc(\"1\", position_para2=\"2\", keywords_para1=\"3\", keywords_para2=\"4\")"
   ]
  },
  {
   "cell_type": "markdown",
   "metadata": {},
   "source": [
    "Wrong cases"
   ]
  },
  {
   "cell_type": "code",
   "execution_count": 18,
   "metadata": {},
   "outputs": [
    {
     "ename": "TypeError",
     "evalue": "myfunc() takes from 2 to 3 positional arguments but 4 were given",
     "output_type": "error",
     "traceback": [
      "\u001b[0;31m---------------------------------------------------------------------------\u001b[0m",
      "\u001b[0;31mTypeError\u001b[0m                                 Traceback (most recent call last)",
      "\u001b[0;32m<ipython-input-18-c47f34450c59>\u001b[0m in \u001b[0;36m<module>\u001b[0;34m\u001b[0m\n\u001b[0;32m----> 1\u001b[0;31m \u001b[0mmyfunc\u001b[0m\u001b[0;34m(\u001b[0m\u001b[0;34m\"1\"\u001b[0m\u001b[0;34m,\u001b[0m \u001b[0;34m\"2\"\u001b[0m\u001b[0;34m,\u001b[0m \u001b[0;34m\"3\"\u001b[0m\u001b[0;34m,\u001b[0m \u001b[0;34m\"4\"\u001b[0m\u001b[0;34m)\u001b[0m\u001b[0;34m\u001b[0m\u001b[0;34m\u001b[0m\u001b[0m\n\u001b[0m",
      "\u001b[0;31mTypeError\u001b[0m: myfunc() takes from 2 to 3 positional arguments but 4 were given"
     ]
    }
   ],
   "source": [
    "myfunc(\"1\", \"2\", \"3\", \"4\")"
   ]
  },
  {
   "cell_type": "code",
   "execution_count": 46,
   "metadata": {},
   "outputs": [
    {
     "ename": "TypeError",
     "evalue": "myfunc() got some positional-only arguments passed as keyword arguments: 'position_para1'",
     "output_type": "error",
     "traceback": [
      "\u001b[0;31m---------------------------------------------------------------------------\u001b[0m",
      "\u001b[0;31mTypeError\u001b[0m                                 Traceback (most recent call last)",
      "\u001b[0;32m<ipython-input-46-fa515e1b7d9c>\u001b[0m in \u001b[0;36m<module>\u001b[0;34m\u001b[0m\n\u001b[0;32m----> 1\u001b[0;31m \u001b[0mmyfunc\u001b[0m\u001b[0;34m(\u001b[0m\u001b[0mposition_para1\u001b[0m\u001b[0;34m=\u001b[0m\u001b[0;34m\"1\"\u001b[0m\u001b[0;34m,\u001b[0m \u001b[0mposition_para2\u001b[0m\u001b[0;34m=\u001b[0m\u001b[0;34m\"2\"\u001b[0m\u001b[0;34m,\u001b[0m \u001b[0mkeywords_para1\u001b[0m\u001b[0;34m=\u001b[0m\u001b[0;34m\"3\"\u001b[0m\u001b[0;34m,\u001b[0m \u001b[0mkeywords_para2\u001b[0m\u001b[0;34m=\u001b[0m\u001b[0;34m\"4\"\u001b[0m\u001b[0;34m)\u001b[0m\u001b[0;34m\u001b[0m\u001b[0;34m\u001b[0m\u001b[0m\n\u001b[0m",
      "\u001b[0;31mTypeError\u001b[0m: myfunc() got some positional-only arguments passed as keyword arguments: 'position_para1'"
     ]
    }
   ],
   "source": [
    "myfunc(position_para1=\"1\", position_para2=\"2\", keywords_para1=\"3\", keywords_para2=\"4\")"
   ]
  },
  {
   "cell_type": "markdown",
   "metadata": {},
   "source": [
    "Or, we can make it much clearer."
   ]
  },
  {
   "cell_type": "code",
   "execution_count": 21,
   "metadata": {},
   "outputs": [],
   "source": [
    "def myfunc1(position_para1, position_para2, /, *, keywords_para1=\"keywords1\", keywords_para2=\"keywords2\"):\n",
    "    print(position_para1)\n",
    "    print(position_para2)\n",
    "    print(\"keywords1 : {}\".format(keywords_para1))\n",
    "    print(\"keywords2 : {}\".format(keywords_para2))"
   ]
  },
  {
   "cell_type": "code",
   "execution_count": 22,
   "metadata": {},
   "outputs": [
    {
     "name": "stdout",
     "output_type": "stream",
     "text": [
      "1\n",
      "2\n",
      "keywords1 : 3\n",
      "keywords2 : 4\n"
     ]
    }
   ],
   "source": [
    "myfunc1(\"1\", \"2\", keywords_para1=\"3\", keywords_para2=\"4\")"
   ]
  },
  {
   "cell_type": "code",
   "execution_count": 49,
   "metadata": {},
   "outputs": [
    {
     "ename": "TypeError",
     "evalue": "myfunc1() got some positional-only arguments passed as keyword arguments: 'position_para2'",
     "output_type": "error",
     "traceback": [
      "\u001b[0;31m---------------------------------------------------------------------------\u001b[0m",
      "\u001b[0;31mTypeError\u001b[0m                                 Traceback (most recent call last)",
      "\u001b[0;32m<ipython-input-49-b7c703079e24>\u001b[0m in \u001b[0;36m<module>\u001b[0;34m\u001b[0m\n\u001b[0;32m----> 1\u001b[0;31m \u001b[0mmyfunc1\u001b[0m\u001b[0;34m(\u001b[0m\u001b[0;34m\"1\"\u001b[0m\u001b[0;34m,\u001b[0m \u001b[0mposition_para2\u001b[0m\u001b[0;34m=\u001b[0m\u001b[0;34m\"2\"\u001b[0m\u001b[0;34m,\u001b[0m \u001b[0mkeywords_para1\u001b[0m\u001b[0;34m=\u001b[0m\u001b[0;34m\"3\"\u001b[0m\u001b[0;34m,\u001b[0m \u001b[0mkeywords_para2\u001b[0m\u001b[0;34m=\u001b[0m\u001b[0;34m\"4\"\u001b[0m\u001b[0;34m)\u001b[0m\u001b[0;34m\u001b[0m\u001b[0;34m\u001b[0m\u001b[0m\n\u001b[0m",
      "\u001b[0;31mTypeError\u001b[0m: myfunc1() got some positional-only arguments passed as keyword arguments: 'position_para2'"
     ]
    }
   ],
   "source": [
    "myfunc1(\"1\", position_para2=\"2\", keywords_para1=\"3\", keywords_para2=\"4\")"
   ]
  },
  {
   "cell_type": "code",
   "execution_count": 50,
   "metadata": {},
   "outputs": [
    {
     "ename": "TypeError",
     "evalue": "myfunc1() takes 2 positional arguments but 3 positional arguments (and 1 keyword-only argument) were given",
     "output_type": "error",
     "traceback": [
      "\u001b[0;31m---------------------------------------------------------------------------\u001b[0m",
      "\u001b[0;31mTypeError\u001b[0m                                 Traceback (most recent call last)",
      "\u001b[0;32m<ipython-input-50-cf7320751100>\u001b[0m in \u001b[0;36m<module>\u001b[0;34m\u001b[0m\n\u001b[0;32m----> 1\u001b[0;31m \u001b[0mmyfunc1\u001b[0m\u001b[0;34m(\u001b[0m\u001b[0;34m\"1\"\u001b[0m\u001b[0;34m,\u001b[0m \u001b[0;34m\"2\"\u001b[0m\u001b[0;34m,\u001b[0m \u001b[0;34m\"3\"\u001b[0m\u001b[0;34m,\u001b[0m \u001b[0mkeywords_para2\u001b[0m\u001b[0;34m=\u001b[0m\u001b[0;34m\"4\"\u001b[0m\u001b[0;34m)\u001b[0m\u001b[0;34m\u001b[0m\u001b[0;34m\u001b[0m\u001b[0m\n\u001b[0m",
      "\u001b[0;31mTypeError\u001b[0m: myfunc1() takes 2 positional arguments but 3 positional arguments (and 1 keyword-only argument) were given"
     ]
    }
   ],
   "source": [
    "myfunc1(\"1\", \"2\", \"3\", keywords_para2=\"4\")"
   ]
  },
  {
   "cell_type": "markdown",
   "metadata": {},
   "source": [
    "Simply, before /, all parameters are position parameter"
   ]
  },
  {
   "cell_type": "markdown",
   "metadata": {},
   "source": [
    "Or we can just use single side"
   ]
  },
  {
   "cell_type": "code",
   "execution_count": 51,
   "metadata": {},
   "outputs": [],
   "source": [
    "def pos_only(arg, /):\n",
    "    print(arg)\n",
    "\n",
    "def kwd_only(*, arg):\n",
    "    print(arg)\n"
   ]
  },
  {
   "cell_type": "code",
   "execution_count": 23,
   "metadata": {},
   "outputs": [
    {
     "ename": "TypeError",
     "evalue": "complicatedOne() got multiple values for argument 'name'",
     "output_type": "error",
     "traceback": [
      "\u001b[0;31m---------------------------------------------------------------------------\u001b[0m",
      "\u001b[0;31mTypeError\u001b[0m                                 Traceback (most recent call last)",
      "\u001b[0;32m<ipython-input-23-0354dbcb544c>\u001b[0m in \u001b[0;36m<module>\u001b[0;34m\u001b[0m\n\u001b[1;32m      2\u001b[0m     \u001b[0;32mreturn\u001b[0m \u001b[0mname\u001b[0m \u001b[0;32min\u001b[0m \u001b[0mkwds\u001b[0m\u001b[0;34m\u001b[0m\u001b[0;34m\u001b[0m\u001b[0m\n\u001b[1;32m      3\u001b[0m \u001b[0;34m\u001b[0m\u001b[0m\n\u001b[0;32m----> 4\u001b[0;31m \u001b[0mcomplicatedOne\u001b[0m\u001b[0;34m(\u001b[0m\u001b[0;34m\"name\"\u001b[0m\u001b[0;34m,\u001b[0m \u001b[0;34m**\u001b[0m\u001b[0;34m{\u001b[0m\u001b[0;34m'name'\u001b[0m\u001b[0;34m:\u001b[0m \u001b[0;36m1\u001b[0m\u001b[0;34m}\u001b[0m\u001b[0;34m)\u001b[0m\u001b[0;34m\u001b[0m\u001b[0;34m\u001b[0m\u001b[0m\n\u001b[0m",
      "\u001b[0;31mTypeError\u001b[0m: complicatedOne() got multiple values for argument 'name'"
     ]
    }
   ],
   "source": [
    "def complicatedOne(name, **kwds):\n",
    "    return name in kwds\n",
    "\n",
    "complicatedOne(\"name\", **{'name': 1})"
   ]
  },
  {
   "cell_type": "markdown",
   "metadata": {},
   "source": [
    "The problem is there are two \"name\", for name can also be standard, so we can use / to make it clear."
   ]
  },
  {
   "cell_type": "code",
   "execution_count": 31,
   "metadata": {},
   "outputs": [
    {
     "data": {
      "text/plain": [
       "True"
      ]
     },
     "execution_count": 31,
     "metadata": {},
     "output_type": "execute_result"
    }
   ],
   "source": [
    "def complicatedOne(name, /, **kwds):\n",
    "    return name in kwds\n",
    "\n",
    "complicatedOne(\"name\", **{'name': 1})\n",
    "complicatedOne(\"name\", name=1)"
   ]
  },
  {
   "cell_type": "markdown",
   "metadata": {},
   "source": [
    "### Conlusion"
   ]
  },
  {
   "cell_type": "markdown",
   "metadata": {},
   "source": [
    "1. Keywords Argument\n",
    "\n",
    "Make it much clearer for both programmers and computer."
   ]
  },
  {
   "cell_type": "markdown",
   "metadata": {},
   "source": [
    "2. special parameters\n",
    "\n",
    "Split position and keywords"
   ]
  },
  {
   "cell_type": "markdown",
   "metadata": {},
   "source": []
  }
 ],
 "metadata": {
  "interpreter": {
   "hash": "6eee716f8a3896ce7f6902aa4907f2c4f4cc03f8df2b3dd320ffe18d9a8fc823"
  },
  "kernelspec": {
   "display_name": "Python 3",
   "language": "python",
   "name": "python3"
  },
  "language_info": {
   "codemirror_mode": {
    "name": "ipython",
    "version": 3
   },
   "file_extension": ".py",
   "mimetype": "text/x-python",
   "name": "python",
   "nbconvert_exporter": "python",
   "pygments_lexer": "ipython3",
   "version": "3.8.8"
  }
 },
 "nbformat": 4,
 "nbformat_minor": 2
}

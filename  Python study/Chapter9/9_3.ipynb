{
 "cells": [
  {
   "cell_type": "markdown",
   "metadata": {},
   "source": [
    "## 9. 3 A First Look at Classes"
   ]
  },
  {
   "cell_type": "markdown",
   "metadata": {},
   "source": [
    "The simplest form of class definition looks like this:\n",
    "\n",
    "```\n",
    "class ClassName:\n",
    "    <statement-1>\n",
    "    .\n",
    "    .\n",
    "    .\n",
    "    <statement-N>\n",
    "```"
   ]
  },
  {
   "cell_type": "markdown",
   "metadata": {},
   "source": [
    "In this section, I will not talk about too much about the descriptions, because you can read them by yourself, so I will give you the example first. "
   ]
  },
  {
   "cell_type": "code",
   "execution_count": 25,
   "metadata": {},
   "outputs": [],
   "source": [
    "class Myclass:\n",
    "    classname = \"myclass\"\n"
   ]
  },
  {
   "cell_type": "markdown",
   "metadata": {},
   "source": [
    "This is a class, but it can not be used directly, basically we should initialize a object first.\n",
    "\n",
    "But we for those attributes which has already been defined in the class, we can also access to the attributes by"
   ]
  },
  {
   "cell_type": "code",
   "execution_count": 26,
   "metadata": {},
   "outputs": [
    {
     "data": {
      "text/plain": [
       "'myclass'"
      ]
     },
     "execution_count": 26,
     "metadata": {},
     "output_type": "execute_result"
    }
   ],
   "source": [
    "Myclass.classname"
   ]
  },
  {
   "cell_type": "markdown",
   "metadata": {},
   "source": [
    "Now, classname in this class is a class variable, even if you dont init first, you can read it.\n",
    "\n",
    "Also, static function in class can also be used"
   ]
  },
  {
   "cell_type": "code",
   "execution_count": 27,
   "metadata": {},
   "outputs": [
    {
     "name": "stdout",
     "output_type": "stream",
     "text": [
      "This is static!\n"
     ]
    }
   ],
   "source": [
    "class MyStaticMethod:\n",
    "    def showMethod():\n",
    "        print(\"This is static!\")\n",
    "        \n",
    "MyStaticMethod.showMethod()"
   ]
  },
  {
   "cell_type": "markdown",
   "metadata": {},
   "source": [
    "Sure, we have not initilized it, either, but we can still use this method.\n",
    "It may be different from other OOP programming languages. But dont worry, python is so flexible so that you can use all things easily."
   ]
  },
  {
   "cell_type": "markdown",
   "metadata": {},
   "source": [
    "But wait, how can we use variables to initialize an object?"
   ]
  },
  {
   "cell_type": "markdown",
   "metadata": {},
   "source": [
    "Like other programming language, we need to define the constructor method of a class"
   ]
  },
  {
   "cell_type": "code",
   "execution_count": 28,
   "metadata": {},
   "outputs": [],
   "source": [
    "class MyfirstConstructor:\n",
    "    def __init__(self, name):\n",
    "        self.name = name\n",
    "    def print_name(self):\n",
    "        print(self.name)\n",
    "\n"
   ]
  },
  {
   "cell_type": "code",
   "execution_count": 29,
   "metadata": {},
   "outputs": [
    {
     "name": "stdout",
     "output_type": "stream",
     "text": [
      "Hepj\n"
     ]
    }
   ],
   "source": [
    "myfirstconst = MyfirstConstructor(name=\"Hepj\")\n",
    "myfirstconst.print_name()"
   ]
  },
  {
   "cell_type": "markdown",
   "metadata": {},
   "source": [
    "Notice the example, in init method, we assign our __self.name = name__\n",
    "\n",
    "Which means, there is an attribute named __name__ of this object, when we initialize it as an instance, we assign the __name__ attribute to variable name.\n",
    "\n",
    "self is something you should notice, basically, when you want to use the object's attribute, you can just type it in the method argument.\n",
    "\n",
    "You can also use both class variable and instance variable"
   ]
  },
  {
   "cell_type": "code",
   "execution_count": 30,
   "metadata": {},
   "outputs": [],
   "source": [
    "import math\n",
    "class Circle:\n",
    "    PI = math.pi\n",
    "    def __init__(self, radius):\n",
    "        self.radius = radius\n",
    "        print(\"Init !\")\n",
    "    def computePerimeter(self):\n",
    "        return 2 * self.PI * self.radius\n",
    "    def computeArea(self):\n",
    "        return self.PI * self.radius * self.radius\n",
    "    def descriptClass():\n",
    "        print(\"This is a circle class, it contains two variables, one is a class variable, you can use directly, the other is instance variable, you must init an instance first.\")\n"
   ]
  },
  {
   "cell_type": "markdown",
   "metadata": {},
   "source": [
    "Then, we can use the static method first without initializing an instance."
   ]
  },
  {
   "cell_type": "code",
   "execution_count": 31,
   "metadata": {},
   "outputs": [
    {
     "name": "stdout",
     "output_type": "stream",
     "text": [
      "This is a circle class, it contains two variables, one is a class variable, you can use directly, the other is instance variable, you must init an instance first.\n"
     ]
    }
   ],
   "source": [
    "Circle.descriptClass()"
   ]
  },
  {
   "cell_type": "code",
   "execution_count": 32,
   "metadata": {},
   "outputs": [
    {
     "name": "stdout",
     "output_type": "stream",
     "text": [
      "Init !\n",
      "The perimeter is 25.132741228718345\n",
      "The area is 50.26548245743669\n"
     ]
    }
   ],
   "source": [
    "mycircle = Circle(radius=4)\n",
    "print(f\"The perimeter is {mycircle.computePerimeter()}\")\n",
    "print(f\"The area is {mycircle.computeArea()}\")"
   ]
  },
  {
   "cell_type": "markdown",
   "metadata": {},
   "source": [
    "But one thing you should remember, you should avoid changing the class variable."
   ]
  },
  {
   "cell_type": "code",
   "execution_count": 33,
   "metadata": {},
   "outputs": [],
   "source": [
    "class Test:\n",
    "    name = \"Good\"\n"
   ]
  },
  {
   "cell_type": "code",
   "execution_count": 34,
   "metadata": {},
   "outputs": [
    {
     "data": {
      "text/plain": [
       "'bad'"
      ]
     },
     "execution_count": 34,
     "metadata": {},
     "output_type": "execute_result"
    }
   ],
   "source": [
    "Test.name = \"bad\"\n",
    "Test.name"
   ]
  },
  {
   "cell_type": "markdown",
   "metadata": {},
   "source": [
    "Yes, you can change it successfully, but if you do that, it is really hard to maintain for others."
   ]
  },
  {
   "cell_type": "markdown",
   "metadata": {},
   "source": [
    "Python is flexible, but programming is not, we should write simple and readable code so that everyone can maintain."
   ]
  },
  {
   "cell_type": "markdown",
   "metadata": {},
   "source": []
  }
 ],
 "metadata": {
  "interpreter": {
   "hash": "f20ad0877451baef2a3be670b09b3a1d4732d03673888ca09a000ac823a9def4"
  },
  "kernelspec": {
   "display_name": "Python 3.8.5 ('base')",
   "language": "python",
   "name": "python3"
  },
  "language_info": {
   "codemirror_mode": {
    "name": "ipython",
    "version": 3
   },
   "file_extension": ".py",
   "mimetype": "text/x-python",
   "name": "python",
   "nbconvert_exporter": "python",
   "pygments_lexer": "ipython3",
   "version": "3.8.5"
  },
  "orig_nbformat": 4
 },
 "nbformat": 4,
 "nbformat_minor": 2
}
